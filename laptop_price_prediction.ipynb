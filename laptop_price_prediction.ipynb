{
  "nbformat": 4,
  "nbformat_minor": 0,
  "metadata": {
    "colab": {
      "provenance": []
    },
    "kernelspec": {
      "name": "python3",
      "display_name": "Python 3"
    },
    "language_info": {
      "name": "python"
    }
  },
  "cells": [
    {
      "cell_type": "code",
      "execution_count": 141,
      "metadata": {
        "id": "fLCSiIQpauYU"
      },
      "outputs": [],
      "source": [
        "import pandas as pd\n",
        "import numpy as np\n",
        "import os"
      ]
    },
    {
      "cell_type": "code",
      "source": [
        "df=pd.read_csv(\"/content/laptop_details.csv\")"
      ],
      "metadata": {
        "id": "n8f8U5ana_Jn"
      },
      "execution_count": 142,
      "outputs": []
    },
    {
      "cell_type": "code",
      "source": [
        "df.head()"
      ],
      "metadata": {
        "colab": {
          "base_uri": "https://localhost:8080/",
          "height": 206
        },
        "id": "Q_AB4a6tcr6J",
        "outputId": "ebe04fce-ee54-4b6e-9ead-c0620491b71f"
      },
      "execution_count": 143,
      "outputs": [
        {
          "output_type": "execute_result",
          "data": {
            "text/plain": [
              "                                             Product  Rating      MRP  \\\n",
              "0  Lenovo IdeaPad 3 Core i3 11th Gen - (8 GB/256 ...     4.2  ₹36,990   \n",
              "1  Lenovo IdeaPad 3 Core i3 11th Gen - (8 GB/512 ...     4.2  ₹39,990   \n",
              "2  ASUS VivoBook 15 (2022) Core i3 10th Gen - (8 ...     4.3  ₹32,990   \n",
              "3  HP Pavilion Ryzen 5 Hexa Core AMD R5-5600H - (...     4.4  ₹49,990   \n",
              "4  ASUS TUF Gaming F15 Core i5 10th Gen - (8 GB/5...     4.4  ₹49,990   \n",
              "\n",
              "                                             Feature  \n",
              "0  Intel Core i3 Processor (11th Gen)8 GB DDR4 RA...  \n",
              "1  Intel Core i3 Processor (11th Gen)8 GB DDR4 RA...  \n",
              "2  Intel Core i3 Processor (10th Gen)8 GB DDR4 RA...  \n",
              "3  AMD Ryzen 5 Hexa Core Processor8 GB DDR4 RAM64...  \n",
              "4  Intel Core i5 Processor (10th Gen)8 GB DDR4 RA...  "
            ],
            "text/html": [
              "\n",
              "  <div id=\"df-f2402ced-5cdb-45dd-81ce-19ba54608699\">\n",
              "    <div class=\"colab-df-container\">\n",
              "      <div>\n",
              "<style scoped>\n",
              "    .dataframe tbody tr th:only-of-type {\n",
              "        vertical-align: middle;\n",
              "    }\n",
              "\n",
              "    .dataframe tbody tr th {\n",
              "        vertical-align: top;\n",
              "    }\n",
              "\n",
              "    .dataframe thead th {\n",
              "        text-align: right;\n",
              "    }\n",
              "</style>\n",
              "<table border=\"1\" class=\"dataframe\">\n",
              "  <thead>\n",
              "    <tr style=\"text-align: right;\">\n",
              "      <th></th>\n",
              "      <th>Product</th>\n",
              "      <th>Rating</th>\n",
              "      <th>MRP</th>\n",
              "      <th>Feature</th>\n",
              "    </tr>\n",
              "  </thead>\n",
              "  <tbody>\n",
              "    <tr>\n",
              "      <th>0</th>\n",
              "      <td>Lenovo IdeaPad 3 Core i3 11th Gen - (8 GB/256 ...</td>\n",
              "      <td>4.2</td>\n",
              "      <td>₹36,990</td>\n",
              "      <td>Intel Core i3 Processor (11th Gen)8 GB DDR4 RA...</td>\n",
              "    </tr>\n",
              "    <tr>\n",
              "      <th>1</th>\n",
              "      <td>Lenovo IdeaPad 3 Core i3 11th Gen - (8 GB/512 ...</td>\n",
              "      <td>4.2</td>\n",
              "      <td>₹39,990</td>\n",
              "      <td>Intel Core i3 Processor (11th Gen)8 GB DDR4 RA...</td>\n",
              "    </tr>\n",
              "    <tr>\n",
              "      <th>2</th>\n",
              "      <td>ASUS VivoBook 15 (2022) Core i3 10th Gen - (8 ...</td>\n",
              "      <td>4.3</td>\n",
              "      <td>₹32,990</td>\n",
              "      <td>Intel Core i3 Processor (10th Gen)8 GB DDR4 RA...</td>\n",
              "    </tr>\n",
              "    <tr>\n",
              "      <th>3</th>\n",
              "      <td>HP Pavilion Ryzen 5 Hexa Core AMD R5-5600H - (...</td>\n",
              "      <td>4.4</td>\n",
              "      <td>₹49,990</td>\n",
              "      <td>AMD Ryzen 5 Hexa Core Processor8 GB DDR4 RAM64...</td>\n",
              "    </tr>\n",
              "    <tr>\n",
              "      <th>4</th>\n",
              "      <td>ASUS TUF Gaming F15 Core i5 10th Gen - (8 GB/5...</td>\n",
              "      <td>4.4</td>\n",
              "      <td>₹49,990</td>\n",
              "      <td>Intel Core i5 Processor (10th Gen)8 GB DDR4 RA...</td>\n",
              "    </tr>\n",
              "  </tbody>\n",
              "</table>\n",
              "</div>\n",
              "      <button class=\"colab-df-convert\" onclick=\"convertToInteractive('df-f2402ced-5cdb-45dd-81ce-19ba54608699')\"\n",
              "              title=\"Convert this dataframe to an interactive table.\"\n",
              "              style=\"display:none;\">\n",
              "        \n",
              "  <svg xmlns=\"http://www.w3.org/2000/svg\" height=\"24px\"viewBox=\"0 0 24 24\"\n",
              "       width=\"24px\">\n",
              "    <path d=\"M0 0h24v24H0V0z\" fill=\"none\"/>\n",
              "    <path d=\"M18.56 5.44l.94 2.06.94-2.06 2.06-.94-2.06-.94-.94-2.06-.94 2.06-2.06.94zm-11 1L8.5 8.5l.94-2.06 2.06-.94-2.06-.94L8.5 2.5l-.94 2.06-2.06.94zm10 10l.94 2.06.94-2.06 2.06-.94-2.06-.94-.94-2.06-.94 2.06-2.06.94z\"/><path d=\"M17.41 7.96l-1.37-1.37c-.4-.4-.92-.59-1.43-.59-.52 0-1.04.2-1.43.59L10.3 9.45l-7.72 7.72c-.78.78-.78 2.05 0 2.83L4 21.41c.39.39.9.59 1.41.59.51 0 1.02-.2 1.41-.59l7.78-7.78 2.81-2.81c.8-.78.8-2.07 0-2.86zM5.41 20L4 18.59l7.72-7.72 1.47 1.35L5.41 20z\"/>\n",
              "  </svg>\n",
              "      </button>\n",
              "      \n",
              "  <style>\n",
              "    .colab-df-container {\n",
              "      display:flex;\n",
              "      flex-wrap:wrap;\n",
              "      gap: 12px;\n",
              "    }\n",
              "\n",
              "    .colab-df-convert {\n",
              "      background-color: #E8F0FE;\n",
              "      border: none;\n",
              "      border-radius: 50%;\n",
              "      cursor: pointer;\n",
              "      display: none;\n",
              "      fill: #1967D2;\n",
              "      height: 32px;\n",
              "      padding: 0 0 0 0;\n",
              "      width: 32px;\n",
              "    }\n",
              "\n",
              "    .colab-df-convert:hover {\n",
              "      background-color: #E2EBFA;\n",
              "      box-shadow: 0px 1px 2px rgba(60, 64, 67, 0.3), 0px 1px 3px 1px rgba(60, 64, 67, 0.15);\n",
              "      fill: #174EA6;\n",
              "    }\n",
              "\n",
              "    [theme=dark] .colab-df-convert {\n",
              "      background-color: #3B4455;\n",
              "      fill: #D2E3FC;\n",
              "    }\n",
              "\n",
              "    [theme=dark] .colab-df-convert:hover {\n",
              "      background-color: #434B5C;\n",
              "      box-shadow: 0px 1px 3px 1px rgba(0, 0, 0, 0.15);\n",
              "      filter: drop-shadow(0px 1px 2px rgba(0, 0, 0, 0.3));\n",
              "      fill: #FFFFFF;\n",
              "    }\n",
              "  </style>\n",
              "\n",
              "      <script>\n",
              "        const buttonEl =\n",
              "          document.querySelector('#df-f2402ced-5cdb-45dd-81ce-19ba54608699 button.colab-df-convert');\n",
              "        buttonEl.style.display =\n",
              "          google.colab.kernel.accessAllowed ? 'block' : 'none';\n",
              "\n",
              "        async function convertToInteractive(key) {\n",
              "          const element = document.querySelector('#df-f2402ced-5cdb-45dd-81ce-19ba54608699');\n",
              "          const dataTable =\n",
              "            await google.colab.kernel.invokeFunction('convertToInteractive',\n",
              "                                                     [key], {});\n",
              "          if (!dataTable) return;\n",
              "\n",
              "          const docLinkHtml = 'Like what you see? Visit the ' +\n",
              "            '<a target=\"_blank\" href=https://colab.research.google.com/notebooks/data_table.ipynb>data table notebook</a>'\n",
              "            + ' to learn more about interactive tables.';\n",
              "          element.innerHTML = '';\n",
              "          dataTable['output_type'] = 'display_data';\n",
              "          await google.colab.output.renderOutput(dataTable, element);\n",
              "          const docLink = document.createElement('div');\n",
              "          docLink.innerHTML = docLinkHtml;\n",
              "          element.appendChild(docLink);\n",
              "        }\n",
              "      </script>\n",
              "    </div>\n",
              "  </div>\n",
              "  "
            ]
          },
          "metadata": {},
          "execution_count": 143
        }
      ]
    },
    {
      "cell_type": "markdown",
      "source": [
        "DATA CLEANING"
      ],
      "metadata": {
        "id": "xeE7qbPJmwt-"
      }
    },
    {
      "cell_type": "code",
      "source": [
        "import re\n",
        "regex = r'\\b(?:AMD|Intel|M1|M2|Qualcomm)[\\s\\w]+Processor'\n",
        "fun = lambda x: re.findall(regex, x)\n",
        "df['processor'] = df['Feature'].apply(fun)"
      ],
      "metadata": {
        "id": "obgERitIm2UO"
      },
      "execution_count": 144,
      "outputs": []
    },
    {
      "cell_type": "code",
      "source": [
        "df['processor']\n"
      ],
      "metadata": {
        "colab": {
          "base_uri": "https://localhost:8080/"
        },
        "id": "-D1rCGloc58-",
        "outputId": "79b7b506-55a3-460a-e9d2-0f7f5e4a42ea"
      },
      "execution_count": 145,
      "outputs": [
        {
          "output_type": "execute_result",
          "data": {
            "text/plain": [
              "0                [Intel Core i3 Processor]\n",
              "1                [Intel Core i3 Processor]\n",
              "2                [Intel Core i3 Processor]\n",
              "3        [AMD Ryzen 5 Hexa Core Processor]\n",
              "4                [Intel Core i5 Processor]\n",
              "                      ...                 \n",
              "715    [Intel Celeron Dual Core Processor]\n",
              "716      [AMD Ryzen 7 Octa Core Processor]\n",
              "717      [AMD Ryzen 9 Octa Core Processor]\n",
              "718              [Intel Core i7 Processor]\n",
              "719              [Intel Core i5 Processor]\n",
              "Name: processor, Length: 720, dtype: object"
            ]
          },
          "metadata": {},
          "execution_count": 145
        }
      ]
    },
    {
      "cell_type": "code",
      "source": [
        "regex = r'\\d+\\sGB[\\s\\w]+RAM'\n",
        "fun = lambda x : re.findall(regex, x)\n",
        "df['RAM'] = df['Feature'].apply(fun)\n",
        "\n",
        "regex = r'(?:Windows|Chrome|Mac|Dos)[\\s\\w]+Operating System'\n",
        "fun = lambda x : re.findall(regex, x, re.IGNORECASE)\n",
        "df[\"os\"] = df.Feature.apply(fun)\n",
        "\n"
      ],
      "metadata": {
        "id": "_rBu6MKzrOR1"
      },
      "execution_count": 146,
      "outputs": []
    },
    {
      "cell_type": "code",
      "source": [
        "df['RAM'] = df['RAM'].apply(lambda x: ''.join(x))\n"
      ],
      "metadata": {
        "id": "ErM8pCkdmq1w"
      },
      "execution_count": 147,
      "outputs": []
    },
    {
      "cell_type": "code",
      "source": [
        "regex = r'[^GB |a-z|0-9]+.*[A-Za-z]+'\n",
        "fun = lambda x : re.findall(regex, x)\n",
        "df['RAM TYPE'] = df['RAM'].apply(fun)\n",
        "\n",
        "\n"
      ],
      "metadata": {
        "id": "5Cn1iFSlgVOr"
      },
      "execution_count": 148,
      "outputs": []
    },
    {
      "cell_type": "code",
      "source": [
        "regex = r'\\d+\\sGB'\n",
        "fun = lambda x : re.findall(regex, x)\n",
        "df['RAM'] = df['RAM'].apply(fun)\n"
      ],
      "metadata": {
        "id": "ABoK30inmE87"
      },
      "execution_count": 149,
      "outputs": []
    },
    {
      "cell_type": "code",
      "source": [
        "\n",
        "regex = r'[\\d]+\\s(?:GB|TB)\\s(?:HDD|SSD)'\n",
        "df['ROM_SIZE'] = df['Feature'].apply(lambda x : re.findall(regex, x))\n",
        "df['ROM_SIZE'] = df['ROM_SIZE'].apply(lambda x: ''.join(x))"
      ],
      "metadata": {
        "id": "d7itY4MOrlax"
      },
      "execution_count": 150,
      "outputs": []
    },
    {
      "cell_type": "code",
      "source": [
        "regex = r'(?:HDD|SSD)'\n",
        "fun=lambda x : re.findall(regex, x)\n",
        "df['ROM_TYPE'] = df['ROM_SIZE'].apply(fun)\n",
        "df\n"
      ],
      "metadata": {
        "colab": {
          "base_uri": "https://localhost:8080/",
          "height": 424
        },
        "id": "UCGtkJr3m_Cf",
        "outputId": "f70101f4-fd56-4847-cc37-061bf94c38e7"
      },
      "execution_count": 151,
      "outputs": [
        {
          "output_type": "execute_result",
          "data": {
            "text/plain": [
              "                                               Product  Rating        MRP  \\\n",
              "0    Lenovo IdeaPad 3 Core i3 11th Gen - (8 GB/256 ...     4.2    ₹36,990   \n",
              "1    Lenovo IdeaPad 3 Core i3 11th Gen - (8 GB/512 ...     4.2    ₹39,990   \n",
              "2    ASUS VivoBook 15 (2022) Core i3 10th Gen - (8 ...     4.3    ₹32,990   \n",
              "3    HP Pavilion Ryzen 5 Hexa Core AMD R5-5600H - (...     4.4    ₹49,990   \n",
              "4    ASUS TUF Gaming F15 Core i5 10th Gen - (8 GB/5...     4.4    ₹49,990   \n",
              "..                                                 ...     ...        ...   \n",
              "715  ASUS Chromebook Flip Touch Celeron Dual Core -...     4.0    ₹23,490   \n",
              "716  Lenovo IdeaPad Gaming 3 Ryzen 7 Octa Core AMD ...     4.5    ₹73,490   \n",
              "717  ASUS ROG Zephyrus G15 Ryzen 9 Octa Core 6900HS...     NaN  ₹1,94,990   \n",
              "718  ASUS Zenbook Flip 14 OLED (2022) Touch Panel C...     3.0  ₹1,25,990   \n",
              "719  Lenovo Ideapad Slim 3i Core i5 10th Gen - (8 G...     4.2    ₹50,990   \n",
              "\n",
              "                                               Feature  \\\n",
              "0    Intel Core i3 Processor (11th Gen)8 GB DDR4 RA...   \n",
              "1    Intel Core i3 Processor (11th Gen)8 GB DDR4 RA...   \n",
              "2    Intel Core i3 Processor (10th Gen)8 GB DDR4 RA...   \n",
              "3    AMD Ryzen 5 Hexa Core Processor8 GB DDR4 RAM64...   \n",
              "4    Intel Core i5 Processor (10th Gen)8 GB DDR4 RA...   \n",
              "..                                                 ...   \n",
              "715  Intel Celeron Dual Core Processor4 GB LPDDR4 R...   \n",
              "716  AMD Ryzen 7 Octa Core Processor8 GB DDR4 RAM64...   \n",
              "717  AMD Ryzen 9 Octa Core Processor16 GB DDR5 RAM6...   \n",
              "718  Intel Core i7 Processor (12th Gen)16 GB LPDDR5...   \n",
              "719  Intel Core i5 Processor (10th Gen)8 GB DDR4 RA...   \n",
              "\n",
              "                               processor      RAM  \\\n",
              "0              [Intel Core i3 Processor]   [8 GB]   \n",
              "1              [Intel Core i3 Processor]   [8 GB]   \n",
              "2              [Intel Core i3 Processor]   [8 GB]   \n",
              "3      [AMD Ryzen 5 Hexa Core Processor]   [8 GB]   \n",
              "4              [Intel Core i5 Processor]   [8 GB]   \n",
              "..                                   ...      ...   \n",
              "715  [Intel Celeron Dual Core Processor]   [4 GB]   \n",
              "716    [AMD Ryzen 7 Octa Core Processor]   [8 GB]   \n",
              "717    [AMD Ryzen 9 Octa Core Processor]  [16 GB]   \n",
              "718            [Intel Core i7 Processor]  [16 GB]   \n",
              "719            [Intel Core i5 Processor]   [8 GB]   \n",
              "\n",
              "                                os      RAM TYPE            ROM_SIZE  \\\n",
              "0    [Windows 11 Operating System]    [DDR4 RAM]          256 GB SSD   \n",
              "1    [Windows 11 Operating System]    [DDR4 RAM]          512 GB SSD   \n",
              "2    [Windows 11 Operating System]    [DDR4 RAM]          512 GB SSD   \n",
              "3    [Windows 10 Operating System]    [DDR4 RAM]          512 GB SSD   \n",
              "4    [Windows 11 Operating System]    [DDR4 RAM]          512 GB SSD   \n",
              "..                             ...           ...                 ...   \n",
              "715      [Chrome Operating System]  [LPDDR4 RAM]                       \n",
              "716  [Windows 11 Operating System]    [DDR4 RAM]          512 GB SSD   \n",
              "717  [Windows 11 Operating System]    [DDR5 RAM]            1 TB SSD   \n",
              "718  [Windows 11 Operating System]  [LPDDR5 RAM]          512 GB SSD   \n",
              "719  [Windows 10 Operating System]    [DDR4 RAM]  1 TB HDD256 GB SSD   \n",
              "\n",
              "       ROM_TYPE  \n",
              "0         [SSD]  \n",
              "1         [SSD]  \n",
              "2         [SSD]  \n",
              "3         [SSD]  \n",
              "4         [SSD]  \n",
              "..          ...  \n",
              "715          []  \n",
              "716       [SSD]  \n",
              "717       [SSD]  \n",
              "718       [SSD]  \n",
              "719  [HDD, SSD]  \n",
              "\n",
              "[720 rows x 10 columns]"
            ],
            "text/html": [
              "\n",
              "  <div id=\"df-dd03d942-9c4c-4054-96a5-093cbf891261\">\n",
              "    <div class=\"colab-df-container\">\n",
              "      <div>\n",
              "<style scoped>\n",
              "    .dataframe tbody tr th:only-of-type {\n",
              "        vertical-align: middle;\n",
              "    }\n",
              "\n",
              "    .dataframe tbody tr th {\n",
              "        vertical-align: top;\n",
              "    }\n",
              "\n",
              "    .dataframe thead th {\n",
              "        text-align: right;\n",
              "    }\n",
              "</style>\n",
              "<table border=\"1\" class=\"dataframe\">\n",
              "  <thead>\n",
              "    <tr style=\"text-align: right;\">\n",
              "      <th></th>\n",
              "      <th>Product</th>\n",
              "      <th>Rating</th>\n",
              "      <th>MRP</th>\n",
              "      <th>Feature</th>\n",
              "      <th>processor</th>\n",
              "      <th>RAM</th>\n",
              "      <th>os</th>\n",
              "      <th>RAM TYPE</th>\n",
              "      <th>ROM_SIZE</th>\n",
              "      <th>ROM_TYPE</th>\n",
              "    </tr>\n",
              "  </thead>\n",
              "  <tbody>\n",
              "    <tr>\n",
              "      <th>0</th>\n",
              "      <td>Lenovo IdeaPad 3 Core i3 11th Gen - (8 GB/256 ...</td>\n",
              "      <td>4.2</td>\n",
              "      <td>₹36,990</td>\n",
              "      <td>Intel Core i3 Processor (11th Gen)8 GB DDR4 RA...</td>\n",
              "      <td>[Intel Core i3 Processor]</td>\n",
              "      <td>[8 GB]</td>\n",
              "      <td>[Windows 11 Operating System]</td>\n",
              "      <td>[DDR4 RAM]</td>\n",
              "      <td>256 GB SSD</td>\n",
              "      <td>[SSD]</td>\n",
              "    </tr>\n",
              "    <tr>\n",
              "      <th>1</th>\n",
              "      <td>Lenovo IdeaPad 3 Core i3 11th Gen - (8 GB/512 ...</td>\n",
              "      <td>4.2</td>\n",
              "      <td>₹39,990</td>\n",
              "      <td>Intel Core i3 Processor (11th Gen)8 GB DDR4 RA...</td>\n",
              "      <td>[Intel Core i3 Processor]</td>\n",
              "      <td>[8 GB]</td>\n",
              "      <td>[Windows 11 Operating System]</td>\n",
              "      <td>[DDR4 RAM]</td>\n",
              "      <td>512 GB SSD</td>\n",
              "      <td>[SSD]</td>\n",
              "    </tr>\n",
              "    <tr>\n",
              "      <th>2</th>\n",
              "      <td>ASUS VivoBook 15 (2022) Core i3 10th Gen - (8 ...</td>\n",
              "      <td>4.3</td>\n",
              "      <td>₹32,990</td>\n",
              "      <td>Intel Core i3 Processor (10th Gen)8 GB DDR4 RA...</td>\n",
              "      <td>[Intel Core i3 Processor]</td>\n",
              "      <td>[8 GB]</td>\n",
              "      <td>[Windows 11 Operating System]</td>\n",
              "      <td>[DDR4 RAM]</td>\n",
              "      <td>512 GB SSD</td>\n",
              "      <td>[SSD]</td>\n",
              "    </tr>\n",
              "    <tr>\n",
              "      <th>3</th>\n",
              "      <td>HP Pavilion Ryzen 5 Hexa Core AMD R5-5600H - (...</td>\n",
              "      <td>4.4</td>\n",
              "      <td>₹49,990</td>\n",
              "      <td>AMD Ryzen 5 Hexa Core Processor8 GB DDR4 RAM64...</td>\n",
              "      <td>[AMD Ryzen 5 Hexa Core Processor]</td>\n",
              "      <td>[8 GB]</td>\n",
              "      <td>[Windows 10 Operating System]</td>\n",
              "      <td>[DDR4 RAM]</td>\n",
              "      <td>512 GB SSD</td>\n",
              "      <td>[SSD]</td>\n",
              "    </tr>\n",
              "    <tr>\n",
              "      <th>4</th>\n",
              "      <td>ASUS TUF Gaming F15 Core i5 10th Gen - (8 GB/5...</td>\n",
              "      <td>4.4</td>\n",
              "      <td>₹49,990</td>\n",
              "      <td>Intel Core i5 Processor (10th Gen)8 GB DDR4 RA...</td>\n",
              "      <td>[Intel Core i5 Processor]</td>\n",
              "      <td>[8 GB]</td>\n",
              "      <td>[Windows 11 Operating System]</td>\n",
              "      <td>[DDR4 RAM]</td>\n",
              "      <td>512 GB SSD</td>\n",
              "      <td>[SSD]</td>\n",
              "    </tr>\n",
              "    <tr>\n",
              "      <th>...</th>\n",
              "      <td>...</td>\n",
              "      <td>...</td>\n",
              "      <td>...</td>\n",
              "      <td>...</td>\n",
              "      <td>...</td>\n",
              "      <td>...</td>\n",
              "      <td>...</td>\n",
              "      <td>...</td>\n",
              "      <td>...</td>\n",
              "      <td>...</td>\n",
              "    </tr>\n",
              "    <tr>\n",
              "      <th>715</th>\n",
              "      <td>ASUS Chromebook Flip Touch Celeron Dual Core -...</td>\n",
              "      <td>4.0</td>\n",
              "      <td>₹23,490</td>\n",
              "      <td>Intel Celeron Dual Core Processor4 GB LPDDR4 R...</td>\n",
              "      <td>[Intel Celeron Dual Core Processor]</td>\n",
              "      <td>[4 GB]</td>\n",
              "      <td>[Chrome Operating System]</td>\n",
              "      <td>[LPDDR4 RAM]</td>\n",
              "      <td></td>\n",
              "      <td>[]</td>\n",
              "    </tr>\n",
              "    <tr>\n",
              "      <th>716</th>\n",
              "      <td>Lenovo IdeaPad Gaming 3 Ryzen 7 Octa Core AMD ...</td>\n",
              "      <td>4.5</td>\n",
              "      <td>₹73,490</td>\n",
              "      <td>AMD Ryzen 7 Octa Core Processor8 GB DDR4 RAM64...</td>\n",
              "      <td>[AMD Ryzen 7 Octa Core Processor]</td>\n",
              "      <td>[8 GB]</td>\n",
              "      <td>[Windows 11 Operating System]</td>\n",
              "      <td>[DDR4 RAM]</td>\n",
              "      <td>512 GB SSD</td>\n",
              "      <td>[SSD]</td>\n",
              "    </tr>\n",
              "    <tr>\n",
              "      <th>717</th>\n",
              "      <td>ASUS ROG Zephyrus G15 Ryzen 9 Octa Core 6900HS...</td>\n",
              "      <td>NaN</td>\n",
              "      <td>₹1,94,990</td>\n",
              "      <td>AMD Ryzen 9 Octa Core Processor16 GB DDR5 RAM6...</td>\n",
              "      <td>[AMD Ryzen 9 Octa Core Processor]</td>\n",
              "      <td>[16 GB]</td>\n",
              "      <td>[Windows 11 Operating System]</td>\n",
              "      <td>[DDR5 RAM]</td>\n",
              "      <td>1 TB SSD</td>\n",
              "      <td>[SSD]</td>\n",
              "    </tr>\n",
              "    <tr>\n",
              "      <th>718</th>\n",
              "      <td>ASUS Zenbook Flip 14 OLED (2022) Touch Panel C...</td>\n",
              "      <td>3.0</td>\n",
              "      <td>₹1,25,990</td>\n",
              "      <td>Intel Core i7 Processor (12th Gen)16 GB LPDDR5...</td>\n",
              "      <td>[Intel Core i7 Processor]</td>\n",
              "      <td>[16 GB]</td>\n",
              "      <td>[Windows 11 Operating System]</td>\n",
              "      <td>[LPDDR5 RAM]</td>\n",
              "      <td>512 GB SSD</td>\n",
              "      <td>[SSD]</td>\n",
              "    </tr>\n",
              "    <tr>\n",
              "      <th>719</th>\n",
              "      <td>Lenovo Ideapad Slim 3i Core i5 10th Gen - (8 G...</td>\n",
              "      <td>4.2</td>\n",
              "      <td>₹50,990</td>\n",
              "      <td>Intel Core i5 Processor (10th Gen)8 GB DDR4 RA...</td>\n",
              "      <td>[Intel Core i5 Processor]</td>\n",
              "      <td>[8 GB]</td>\n",
              "      <td>[Windows 10 Operating System]</td>\n",
              "      <td>[DDR4 RAM]</td>\n",
              "      <td>1 TB HDD256 GB SSD</td>\n",
              "      <td>[HDD, SSD]</td>\n",
              "    </tr>\n",
              "  </tbody>\n",
              "</table>\n",
              "<p>720 rows × 10 columns</p>\n",
              "</div>\n",
              "      <button class=\"colab-df-convert\" onclick=\"convertToInteractive('df-dd03d942-9c4c-4054-96a5-093cbf891261')\"\n",
              "              title=\"Convert this dataframe to an interactive table.\"\n",
              "              style=\"display:none;\">\n",
              "        \n",
              "  <svg xmlns=\"http://www.w3.org/2000/svg\" height=\"24px\"viewBox=\"0 0 24 24\"\n",
              "       width=\"24px\">\n",
              "    <path d=\"M0 0h24v24H0V0z\" fill=\"none\"/>\n",
              "    <path d=\"M18.56 5.44l.94 2.06.94-2.06 2.06-.94-2.06-.94-.94-2.06-.94 2.06-2.06.94zm-11 1L8.5 8.5l.94-2.06 2.06-.94-2.06-.94L8.5 2.5l-.94 2.06-2.06.94zm10 10l.94 2.06.94-2.06 2.06-.94-2.06-.94-.94-2.06-.94 2.06-2.06.94z\"/><path d=\"M17.41 7.96l-1.37-1.37c-.4-.4-.92-.59-1.43-.59-.52 0-1.04.2-1.43.59L10.3 9.45l-7.72 7.72c-.78.78-.78 2.05 0 2.83L4 21.41c.39.39.9.59 1.41.59.51 0 1.02-.2 1.41-.59l7.78-7.78 2.81-2.81c.8-.78.8-2.07 0-2.86zM5.41 20L4 18.59l7.72-7.72 1.47 1.35L5.41 20z\"/>\n",
              "  </svg>\n",
              "      </button>\n",
              "      \n",
              "  <style>\n",
              "    .colab-df-container {\n",
              "      display:flex;\n",
              "      flex-wrap:wrap;\n",
              "      gap: 12px;\n",
              "    }\n",
              "\n",
              "    .colab-df-convert {\n",
              "      background-color: #E8F0FE;\n",
              "      border: none;\n",
              "      border-radius: 50%;\n",
              "      cursor: pointer;\n",
              "      display: none;\n",
              "      fill: #1967D2;\n",
              "      height: 32px;\n",
              "      padding: 0 0 0 0;\n",
              "      width: 32px;\n",
              "    }\n",
              "\n",
              "    .colab-df-convert:hover {\n",
              "      background-color: #E2EBFA;\n",
              "      box-shadow: 0px 1px 2px rgba(60, 64, 67, 0.3), 0px 1px 3px 1px rgba(60, 64, 67, 0.15);\n",
              "      fill: #174EA6;\n",
              "    }\n",
              "\n",
              "    [theme=dark] .colab-df-convert {\n",
              "      background-color: #3B4455;\n",
              "      fill: #D2E3FC;\n",
              "    }\n",
              "\n",
              "    [theme=dark] .colab-df-convert:hover {\n",
              "      background-color: #434B5C;\n",
              "      box-shadow: 0px 1px 3px 1px rgba(0, 0, 0, 0.15);\n",
              "      filter: drop-shadow(0px 1px 2px rgba(0, 0, 0, 0.3));\n",
              "      fill: #FFFFFF;\n",
              "    }\n",
              "  </style>\n",
              "\n",
              "      <script>\n",
              "        const buttonEl =\n",
              "          document.querySelector('#df-dd03d942-9c4c-4054-96a5-093cbf891261 button.colab-df-convert');\n",
              "        buttonEl.style.display =\n",
              "          google.colab.kernel.accessAllowed ? 'block' : 'none';\n",
              "\n",
              "        async function convertToInteractive(key) {\n",
              "          const element = document.querySelector('#df-dd03d942-9c4c-4054-96a5-093cbf891261');\n",
              "          const dataTable =\n",
              "            await google.colab.kernel.invokeFunction('convertToInteractive',\n",
              "                                                     [key], {});\n",
              "          if (!dataTable) return;\n",
              "\n",
              "          const docLinkHtml = 'Like what you see? Visit the ' +\n",
              "            '<a target=\"_blank\" href=https://colab.research.google.com/notebooks/data_table.ipynb>data table notebook</a>'\n",
              "            + ' to learn more about interactive tables.';\n",
              "          element.innerHTML = '';\n",
              "          dataTable['output_type'] = 'display_data';\n",
              "          await google.colab.output.renderOutput(dataTable, element);\n",
              "          const docLink = document.createElement('div');\n",
              "          docLink.innerHTML = docLinkHtml;\n",
              "          element.appendChild(docLink);\n",
              "        }\n",
              "      </script>\n",
              "    </div>\n",
              "  </div>\n",
              "  "
            ]
          },
          "metadata": {},
          "execution_count": 151
        }
      ]
    },
    {
      "cell_type": "code",
      "source": [
        "regex = r'[\\d]+\\s(?:GB|TB)'\n",
        "fun=lambda x : re.findall(regex, x)\n",
        "df['ROM_SIZE'] = df['ROM_SIZE'].apply(fun)\n"
      ],
      "metadata": {
        "id": "tIs_AJbsnvOt"
      },
      "execution_count": 152,
      "outputs": []
    },
    {
      "cell_type": "code",
      "source": [
        "regex = r'^\\w+'\n",
        "\n",
        "df[\"Brand\"] = df.Product.apply(lambda x: re.findall(regex, x))\n",
        "df.head()"
      ],
      "metadata": {
        "id": "EcCdvTTFrp0c",
        "colab": {
          "base_uri": "https://localhost:8080/",
          "height": 206
        },
        "outputId": "9c99d1d8-9840-49bd-dd0d-3d987f079ae5"
      },
      "execution_count": 153,
      "outputs": [
        {
          "output_type": "execute_result",
          "data": {
            "text/plain": [
              "                                             Product  Rating      MRP  \\\n",
              "0  Lenovo IdeaPad 3 Core i3 11th Gen - (8 GB/256 ...     4.2  ₹36,990   \n",
              "1  Lenovo IdeaPad 3 Core i3 11th Gen - (8 GB/512 ...     4.2  ₹39,990   \n",
              "2  ASUS VivoBook 15 (2022) Core i3 10th Gen - (8 ...     4.3  ₹32,990   \n",
              "3  HP Pavilion Ryzen 5 Hexa Core AMD R5-5600H - (...     4.4  ₹49,990   \n",
              "4  ASUS TUF Gaming F15 Core i5 10th Gen - (8 GB/5...     4.4  ₹49,990   \n",
              "\n",
              "                                             Feature  \\\n",
              "0  Intel Core i3 Processor (11th Gen)8 GB DDR4 RA...   \n",
              "1  Intel Core i3 Processor (11th Gen)8 GB DDR4 RA...   \n",
              "2  Intel Core i3 Processor (10th Gen)8 GB DDR4 RA...   \n",
              "3  AMD Ryzen 5 Hexa Core Processor8 GB DDR4 RAM64...   \n",
              "4  Intel Core i5 Processor (10th Gen)8 GB DDR4 RA...   \n",
              "\n",
              "                           processor     RAM                             os  \\\n",
              "0          [Intel Core i3 Processor]  [8 GB]  [Windows 11 Operating System]   \n",
              "1          [Intel Core i3 Processor]  [8 GB]  [Windows 11 Operating System]   \n",
              "2          [Intel Core i3 Processor]  [8 GB]  [Windows 11 Operating System]   \n",
              "3  [AMD Ryzen 5 Hexa Core Processor]  [8 GB]  [Windows 10 Operating System]   \n",
              "4          [Intel Core i5 Processor]  [8 GB]  [Windows 11 Operating System]   \n",
              "\n",
              "     RAM TYPE  ROM_SIZE ROM_TYPE     Brand  \n",
              "0  [DDR4 RAM]  [256 GB]    [SSD]  [Lenovo]  \n",
              "1  [DDR4 RAM]  [512 GB]    [SSD]  [Lenovo]  \n",
              "2  [DDR4 RAM]  [512 GB]    [SSD]    [ASUS]  \n",
              "3  [DDR4 RAM]  [512 GB]    [SSD]      [HP]  \n",
              "4  [DDR4 RAM]  [512 GB]    [SSD]    [ASUS]  "
            ],
            "text/html": [
              "\n",
              "  <div id=\"df-8423423b-44a7-4d8e-9a49-b4390075fbd6\">\n",
              "    <div class=\"colab-df-container\">\n",
              "      <div>\n",
              "<style scoped>\n",
              "    .dataframe tbody tr th:only-of-type {\n",
              "        vertical-align: middle;\n",
              "    }\n",
              "\n",
              "    .dataframe tbody tr th {\n",
              "        vertical-align: top;\n",
              "    }\n",
              "\n",
              "    .dataframe thead th {\n",
              "        text-align: right;\n",
              "    }\n",
              "</style>\n",
              "<table border=\"1\" class=\"dataframe\">\n",
              "  <thead>\n",
              "    <tr style=\"text-align: right;\">\n",
              "      <th></th>\n",
              "      <th>Product</th>\n",
              "      <th>Rating</th>\n",
              "      <th>MRP</th>\n",
              "      <th>Feature</th>\n",
              "      <th>processor</th>\n",
              "      <th>RAM</th>\n",
              "      <th>os</th>\n",
              "      <th>RAM TYPE</th>\n",
              "      <th>ROM_SIZE</th>\n",
              "      <th>ROM_TYPE</th>\n",
              "      <th>Brand</th>\n",
              "    </tr>\n",
              "  </thead>\n",
              "  <tbody>\n",
              "    <tr>\n",
              "      <th>0</th>\n",
              "      <td>Lenovo IdeaPad 3 Core i3 11th Gen - (8 GB/256 ...</td>\n",
              "      <td>4.2</td>\n",
              "      <td>₹36,990</td>\n",
              "      <td>Intel Core i3 Processor (11th Gen)8 GB DDR4 RA...</td>\n",
              "      <td>[Intel Core i3 Processor]</td>\n",
              "      <td>[8 GB]</td>\n",
              "      <td>[Windows 11 Operating System]</td>\n",
              "      <td>[DDR4 RAM]</td>\n",
              "      <td>[256 GB]</td>\n",
              "      <td>[SSD]</td>\n",
              "      <td>[Lenovo]</td>\n",
              "    </tr>\n",
              "    <tr>\n",
              "      <th>1</th>\n",
              "      <td>Lenovo IdeaPad 3 Core i3 11th Gen - (8 GB/512 ...</td>\n",
              "      <td>4.2</td>\n",
              "      <td>₹39,990</td>\n",
              "      <td>Intel Core i3 Processor (11th Gen)8 GB DDR4 RA...</td>\n",
              "      <td>[Intel Core i3 Processor]</td>\n",
              "      <td>[8 GB]</td>\n",
              "      <td>[Windows 11 Operating System]</td>\n",
              "      <td>[DDR4 RAM]</td>\n",
              "      <td>[512 GB]</td>\n",
              "      <td>[SSD]</td>\n",
              "      <td>[Lenovo]</td>\n",
              "    </tr>\n",
              "    <tr>\n",
              "      <th>2</th>\n",
              "      <td>ASUS VivoBook 15 (2022) Core i3 10th Gen - (8 ...</td>\n",
              "      <td>4.3</td>\n",
              "      <td>₹32,990</td>\n",
              "      <td>Intel Core i3 Processor (10th Gen)8 GB DDR4 RA...</td>\n",
              "      <td>[Intel Core i3 Processor]</td>\n",
              "      <td>[8 GB]</td>\n",
              "      <td>[Windows 11 Operating System]</td>\n",
              "      <td>[DDR4 RAM]</td>\n",
              "      <td>[512 GB]</td>\n",
              "      <td>[SSD]</td>\n",
              "      <td>[ASUS]</td>\n",
              "    </tr>\n",
              "    <tr>\n",
              "      <th>3</th>\n",
              "      <td>HP Pavilion Ryzen 5 Hexa Core AMD R5-5600H - (...</td>\n",
              "      <td>4.4</td>\n",
              "      <td>₹49,990</td>\n",
              "      <td>AMD Ryzen 5 Hexa Core Processor8 GB DDR4 RAM64...</td>\n",
              "      <td>[AMD Ryzen 5 Hexa Core Processor]</td>\n",
              "      <td>[8 GB]</td>\n",
              "      <td>[Windows 10 Operating System]</td>\n",
              "      <td>[DDR4 RAM]</td>\n",
              "      <td>[512 GB]</td>\n",
              "      <td>[SSD]</td>\n",
              "      <td>[HP]</td>\n",
              "    </tr>\n",
              "    <tr>\n",
              "      <th>4</th>\n",
              "      <td>ASUS TUF Gaming F15 Core i5 10th Gen - (8 GB/5...</td>\n",
              "      <td>4.4</td>\n",
              "      <td>₹49,990</td>\n",
              "      <td>Intel Core i5 Processor (10th Gen)8 GB DDR4 RA...</td>\n",
              "      <td>[Intel Core i5 Processor]</td>\n",
              "      <td>[8 GB]</td>\n",
              "      <td>[Windows 11 Operating System]</td>\n",
              "      <td>[DDR4 RAM]</td>\n",
              "      <td>[512 GB]</td>\n",
              "      <td>[SSD]</td>\n",
              "      <td>[ASUS]</td>\n",
              "    </tr>\n",
              "  </tbody>\n",
              "</table>\n",
              "</div>\n",
              "      <button class=\"colab-df-convert\" onclick=\"convertToInteractive('df-8423423b-44a7-4d8e-9a49-b4390075fbd6')\"\n",
              "              title=\"Convert this dataframe to an interactive table.\"\n",
              "              style=\"display:none;\">\n",
              "        \n",
              "  <svg xmlns=\"http://www.w3.org/2000/svg\" height=\"24px\"viewBox=\"0 0 24 24\"\n",
              "       width=\"24px\">\n",
              "    <path d=\"M0 0h24v24H0V0z\" fill=\"none\"/>\n",
              "    <path d=\"M18.56 5.44l.94 2.06.94-2.06 2.06-.94-2.06-.94-.94-2.06-.94 2.06-2.06.94zm-11 1L8.5 8.5l.94-2.06 2.06-.94-2.06-.94L8.5 2.5l-.94 2.06-2.06.94zm10 10l.94 2.06.94-2.06 2.06-.94-2.06-.94-.94-2.06-.94 2.06-2.06.94z\"/><path d=\"M17.41 7.96l-1.37-1.37c-.4-.4-.92-.59-1.43-.59-.52 0-1.04.2-1.43.59L10.3 9.45l-7.72 7.72c-.78.78-.78 2.05 0 2.83L4 21.41c.39.39.9.59 1.41.59.51 0 1.02-.2 1.41-.59l7.78-7.78 2.81-2.81c.8-.78.8-2.07 0-2.86zM5.41 20L4 18.59l7.72-7.72 1.47 1.35L5.41 20z\"/>\n",
              "  </svg>\n",
              "      </button>\n",
              "      \n",
              "  <style>\n",
              "    .colab-df-container {\n",
              "      display:flex;\n",
              "      flex-wrap:wrap;\n",
              "      gap: 12px;\n",
              "    }\n",
              "\n",
              "    .colab-df-convert {\n",
              "      background-color: #E8F0FE;\n",
              "      border: none;\n",
              "      border-radius: 50%;\n",
              "      cursor: pointer;\n",
              "      display: none;\n",
              "      fill: #1967D2;\n",
              "      height: 32px;\n",
              "      padding: 0 0 0 0;\n",
              "      width: 32px;\n",
              "    }\n",
              "\n",
              "    .colab-df-convert:hover {\n",
              "      background-color: #E2EBFA;\n",
              "      box-shadow: 0px 1px 2px rgba(60, 64, 67, 0.3), 0px 1px 3px 1px rgba(60, 64, 67, 0.15);\n",
              "      fill: #174EA6;\n",
              "    }\n",
              "\n",
              "    [theme=dark] .colab-df-convert {\n",
              "      background-color: #3B4455;\n",
              "      fill: #D2E3FC;\n",
              "    }\n",
              "\n",
              "    [theme=dark] .colab-df-convert:hover {\n",
              "      background-color: #434B5C;\n",
              "      box-shadow: 0px 1px 3px 1px rgba(0, 0, 0, 0.15);\n",
              "      filter: drop-shadow(0px 1px 2px rgba(0, 0, 0, 0.3));\n",
              "      fill: #FFFFFF;\n",
              "    }\n",
              "  </style>\n",
              "\n",
              "      <script>\n",
              "        const buttonEl =\n",
              "          document.querySelector('#df-8423423b-44a7-4d8e-9a49-b4390075fbd6 button.colab-df-convert');\n",
              "        buttonEl.style.display =\n",
              "          google.colab.kernel.accessAllowed ? 'block' : 'none';\n",
              "\n",
              "        async function convertToInteractive(key) {\n",
              "          const element = document.querySelector('#df-8423423b-44a7-4d8e-9a49-b4390075fbd6');\n",
              "          const dataTable =\n",
              "            await google.colab.kernel.invokeFunction('convertToInteractive',\n",
              "                                                     [key], {});\n",
              "          if (!dataTable) return;\n",
              "\n",
              "          const docLinkHtml = 'Like what you see? Visit the ' +\n",
              "            '<a target=\"_blank\" href=https://colab.research.google.com/notebooks/data_table.ipynb>data table notebook</a>'\n",
              "            + ' to learn more about interactive tables.';\n",
              "          element.innerHTML = '';\n",
              "          dataTable['output_type'] = 'display_data';\n",
              "          await google.colab.output.renderOutput(dataTable, element);\n",
              "          const docLink = document.createElement('div');\n",
              "          docLink.innerHTML = docLinkHtml;\n",
              "          element.appendChild(docLink);\n",
              "        }\n",
              "      </script>\n",
              "    </div>\n",
              "  </div>\n",
              "  "
            ]
          },
          "metadata": {},
          "execution_count": 153
        }
      ]
    },
    {
      "cell_type": "markdown",
      "source": [
        "removind [] brackets "
      ],
      "metadata": {
        "id": "_YP9Hcsd9gRv"
      }
    },
    {
      "cell_type": "code",
      "source": [
        "df['processor'] = df['processor'].apply(lambda x: ''.join(x))\n",
        "df['RAM'] = df['RAM'].apply(lambda x: ''.join(x))\n",
        "df['RAM TYPE'] = df['RAM TYPE'].apply(lambda x: ''.join(x))\n",
        "df['os'] = df['os'].apply(lambda x: ''.join(x))\n",
        "df['Brand'] = df['Brand'].apply(lambda x: ''.join(x))\n",
        "df['ROM_TYPE'] = df['ROM_TYPE'].apply(lambda x: ','.join([str(i) for i in x]))\n",
        "df['ROM_SIZE'] = df['ROM_SIZE'].apply(lambda x: ','.join([str(i) for i in x]))\n",
        "\n",
        "df"
      ],
      "metadata": {
        "colab": {
          "base_uri": "https://localhost:8080/",
          "height": 424
        },
        "id": "ZDJov98v74Tm",
        "outputId": "e3d38dcd-f133-405b-d44b-7ef50141fb88"
      },
      "execution_count": 154,
      "outputs": [
        {
          "output_type": "execute_result",
          "data": {
            "text/plain": [
              "                                               Product  Rating        MRP  \\\n",
              "0    Lenovo IdeaPad 3 Core i3 11th Gen - (8 GB/256 ...     4.2    ₹36,990   \n",
              "1    Lenovo IdeaPad 3 Core i3 11th Gen - (8 GB/512 ...     4.2    ₹39,990   \n",
              "2    ASUS VivoBook 15 (2022) Core i3 10th Gen - (8 ...     4.3    ₹32,990   \n",
              "3    HP Pavilion Ryzen 5 Hexa Core AMD R5-5600H - (...     4.4    ₹49,990   \n",
              "4    ASUS TUF Gaming F15 Core i5 10th Gen - (8 GB/5...     4.4    ₹49,990   \n",
              "..                                                 ...     ...        ...   \n",
              "715  ASUS Chromebook Flip Touch Celeron Dual Core -...     4.0    ₹23,490   \n",
              "716  Lenovo IdeaPad Gaming 3 Ryzen 7 Octa Core AMD ...     4.5    ₹73,490   \n",
              "717  ASUS ROG Zephyrus G15 Ryzen 9 Octa Core 6900HS...     NaN  ₹1,94,990   \n",
              "718  ASUS Zenbook Flip 14 OLED (2022) Touch Panel C...     3.0  ₹1,25,990   \n",
              "719  Lenovo Ideapad Slim 3i Core i5 10th Gen - (8 G...     4.2    ₹50,990   \n",
              "\n",
              "                                               Feature  \\\n",
              "0    Intel Core i3 Processor (11th Gen)8 GB DDR4 RA...   \n",
              "1    Intel Core i3 Processor (11th Gen)8 GB DDR4 RA...   \n",
              "2    Intel Core i3 Processor (10th Gen)8 GB DDR4 RA...   \n",
              "3    AMD Ryzen 5 Hexa Core Processor8 GB DDR4 RAM64...   \n",
              "4    Intel Core i5 Processor (10th Gen)8 GB DDR4 RA...   \n",
              "..                                                 ...   \n",
              "715  Intel Celeron Dual Core Processor4 GB LPDDR4 R...   \n",
              "716  AMD Ryzen 7 Octa Core Processor8 GB DDR4 RAM64...   \n",
              "717  AMD Ryzen 9 Octa Core Processor16 GB DDR5 RAM6...   \n",
              "718  Intel Core i7 Processor (12th Gen)16 GB LPDDR5...   \n",
              "719  Intel Core i5 Processor (10th Gen)8 GB DDR4 RA...   \n",
              "\n",
              "                             processor    RAM                           os  \\\n",
              "0              Intel Core i3 Processor   8 GB  Windows 11 Operating System   \n",
              "1              Intel Core i3 Processor   8 GB  Windows 11 Operating System   \n",
              "2              Intel Core i3 Processor   8 GB  Windows 11 Operating System   \n",
              "3      AMD Ryzen 5 Hexa Core Processor   8 GB  Windows 10 Operating System   \n",
              "4              Intel Core i5 Processor   8 GB  Windows 11 Operating System   \n",
              "..                                 ...    ...                          ...   \n",
              "715  Intel Celeron Dual Core Processor   4 GB      Chrome Operating System   \n",
              "716    AMD Ryzen 7 Octa Core Processor   8 GB  Windows 11 Operating System   \n",
              "717    AMD Ryzen 9 Octa Core Processor  16 GB  Windows 11 Operating System   \n",
              "718            Intel Core i7 Processor  16 GB  Windows 11 Operating System   \n",
              "719            Intel Core i5 Processor   8 GB  Windows 10 Operating System   \n",
              "\n",
              "       RAM TYPE     ROM_SIZE ROM_TYPE   Brand  \n",
              "0      DDR4 RAM       256 GB      SSD  Lenovo  \n",
              "1      DDR4 RAM       512 GB      SSD  Lenovo  \n",
              "2      DDR4 RAM       512 GB      SSD    ASUS  \n",
              "3      DDR4 RAM       512 GB      SSD      HP  \n",
              "4      DDR4 RAM       512 GB      SSD    ASUS  \n",
              "..          ...          ...      ...     ...  \n",
              "715  LPDDR4 RAM                          ASUS  \n",
              "716    DDR4 RAM       512 GB      SSD  Lenovo  \n",
              "717    DDR5 RAM         1 TB      SSD    ASUS  \n",
              "718  LPDDR5 RAM       512 GB      SSD    ASUS  \n",
              "719    DDR4 RAM  1 TB,256 GB  HDD,SSD  Lenovo  \n",
              "\n",
              "[720 rows x 11 columns]"
            ],
            "text/html": [
              "\n",
              "  <div id=\"df-bb6ffa59-673a-4fac-9621-a85b11c92e8f\">\n",
              "    <div class=\"colab-df-container\">\n",
              "      <div>\n",
              "<style scoped>\n",
              "    .dataframe tbody tr th:only-of-type {\n",
              "        vertical-align: middle;\n",
              "    }\n",
              "\n",
              "    .dataframe tbody tr th {\n",
              "        vertical-align: top;\n",
              "    }\n",
              "\n",
              "    .dataframe thead th {\n",
              "        text-align: right;\n",
              "    }\n",
              "</style>\n",
              "<table border=\"1\" class=\"dataframe\">\n",
              "  <thead>\n",
              "    <tr style=\"text-align: right;\">\n",
              "      <th></th>\n",
              "      <th>Product</th>\n",
              "      <th>Rating</th>\n",
              "      <th>MRP</th>\n",
              "      <th>Feature</th>\n",
              "      <th>processor</th>\n",
              "      <th>RAM</th>\n",
              "      <th>os</th>\n",
              "      <th>RAM TYPE</th>\n",
              "      <th>ROM_SIZE</th>\n",
              "      <th>ROM_TYPE</th>\n",
              "      <th>Brand</th>\n",
              "    </tr>\n",
              "  </thead>\n",
              "  <tbody>\n",
              "    <tr>\n",
              "      <th>0</th>\n",
              "      <td>Lenovo IdeaPad 3 Core i3 11th Gen - (8 GB/256 ...</td>\n",
              "      <td>4.2</td>\n",
              "      <td>₹36,990</td>\n",
              "      <td>Intel Core i3 Processor (11th Gen)8 GB DDR4 RA...</td>\n",
              "      <td>Intel Core i3 Processor</td>\n",
              "      <td>8 GB</td>\n",
              "      <td>Windows 11 Operating System</td>\n",
              "      <td>DDR4 RAM</td>\n",
              "      <td>256 GB</td>\n",
              "      <td>SSD</td>\n",
              "      <td>Lenovo</td>\n",
              "    </tr>\n",
              "    <tr>\n",
              "      <th>1</th>\n",
              "      <td>Lenovo IdeaPad 3 Core i3 11th Gen - (8 GB/512 ...</td>\n",
              "      <td>4.2</td>\n",
              "      <td>₹39,990</td>\n",
              "      <td>Intel Core i3 Processor (11th Gen)8 GB DDR4 RA...</td>\n",
              "      <td>Intel Core i3 Processor</td>\n",
              "      <td>8 GB</td>\n",
              "      <td>Windows 11 Operating System</td>\n",
              "      <td>DDR4 RAM</td>\n",
              "      <td>512 GB</td>\n",
              "      <td>SSD</td>\n",
              "      <td>Lenovo</td>\n",
              "    </tr>\n",
              "    <tr>\n",
              "      <th>2</th>\n",
              "      <td>ASUS VivoBook 15 (2022) Core i3 10th Gen - (8 ...</td>\n",
              "      <td>4.3</td>\n",
              "      <td>₹32,990</td>\n",
              "      <td>Intel Core i3 Processor (10th Gen)8 GB DDR4 RA...</td>\n",
              "      <td>Intel Core i3 Processor</td>\n",
              "      <td>8 GB</td>\n",
              "      <td>Windows 11 Operating System</td>\n",
              "      <td>DDR4 RAM</td>\n",
              "      <td>512 GB</td>\n",
              "      <td>SSD</td>\n",
              "      <td>ASUS</td>\n",
              "    </tr>\n",
              "    <tr>\n",
              "      <th>3</th>\n",
              "      <td>HP Pavilion Ryzen 5 Hexa Core AMD R5-5600H - (...</td>\n",
              "      <td>4.4</td>\n",
              "      <td>₹49,990</td>\n",
              "      <td>AMD Ryzen 5 Hexa Core Processor8 GB DDR4 RAM64...</td>\n",
              "      <td>AMD Ryzen 5 Hexa Core Processor</td>\n",
              "      <td>8 GB</td>\n",
              "      <td>Windows 10 Operating System</td>\n",
              "      <td>DDR4 RAM</td>\n",
              "      <td>512 GB</td>\n",
              "      <td>SSD</td>\n",
              "      <td>HP</td>\n",
              "    </tr>\n",
              "    <tr>\n",
              "      <th>4</th>\n",
              "      <td>ASUS TUF Gaming F15 Core i5 10th Gen - (8 GB/5...</td>\n",
              "      <td>4.4</td>\n",
              "      <td>₹49,990</td>\n",
              "      <td>Intel Core i5 Processor (10th Gen)8 GB DDR4 RA...</td>\n",
              "      <td>Intel Core i5 Processor</td>\n",
              "      <td>8 GB</td>\n",
              "      <td>Windows 11 Operating System</td>\n",
              "      <td>DDR4 RAM</td>\n",
              "      <td>512 GB</td>\n",
              "      <td>SSD</td>\n",
              "      <td>ASUS</td>\n",
              "    </tr>\n",
              "    <tr>\n",
              "      <th>...</th>\n",
              "      <td>...</td>\n",
              "      <td>...</td>\n",
              "      <td>...</td>\n",
              "      <td>...</td>\n",
              "      <td>...</td>\n",
              "      <td>...</td>\n",
              "      <td>...</td>\n",
              "      <td>...</td>\n",
              "      <td>...</td>\n",
              "      <td>...</td>\n",
              "      <td>...</td>\n",
              "    </tr>\n",
              "    <tr>\n",
              "      <th>715</th>\n",
              "      <td>ASUS Chromebook Flip Touch Celeron Dual Core -...</td>\n",
              "      <td>4.0</td>\n",
              "      <td>₹23,490</td>\n",
              "      <td>Intel Celeron Dual Core Processor4 GB LPDDR4 R...</td>\n",
              "      <td>Intel Celeron Dual Core Processor</td>\n",
              "      <td>4 GB</td>\n",
              "      <td>Chrome Operating System</td>\n",
              "      <td>LPDDR4 RAM</td>\n",
              "      <td></td>\n",
              "      <td></td>\n",
              "      <td>ASUS</td>\n",
              "    </tr>\n",
              "    <tr>\n",
              "      <th>716</th>\n",
              "      <td>Lenovo IdeaPad Gaming 3 Ryzen 7 Octa Core AMD ...</td>\n",
              "      <td>4.5</td>\n",
              "      <td>₹73,490</td>\n",
              "      <td>AMD Ryzen 7 Octa Core Processor8 GB DDR4 RAM64...</td>\n",
              "      <td>AMD Ryzen 7 Octa Core Processor</td>\n",
              "      <td>8 GB</td>\n",
              "      <td>Windows 11 Operating System</td>\n",
              "      <td>DDR4 RAM</td>\n",
              "      <td>512 GB</td>\n",
              "      <td>SSD</td>\n",
              "      <td>Lenovo</td>\n",
              "    </tr>\n",
              "    <tr>\n",
              "      <th>717</th>\n",
              "      <td>ASUS ROG Zephyrus G15 Ryzen 9 Octa Core 6900HS...</td>\n",
              "      <td>NaN</td>\n",
              "      <td>₹1,94,990</td>\n",
              "      <td>AMD Ryzen 9 Octa Core Processor16 GB DDR5 RAM6...</td>\n",
              "      <td>AMD Ryzen 9 Octa Core Processor</td>\n",
              "      <td>16 GB</td>\n",
              "      <td>Windows 11 Operating System</td>\n",
              "      <td>DDR5 RAM</td>\n",
              "      <td>1 TB</td>\n",
              "      <td>SSD</td>\n",
              "      <td>ASUS</td>\n",
              "    </tr>\n",
              "    <tr>\n",
              "      <th>718</th>\n",
              "      <td>ASUS Zenbook Flip 14 OLED (2022) Touch Panel C...</td>\n",
              "      <td>3.0</td>\n",
              "      <td>₹1,25,990</td>\n",
              "      <td>Intel Core i7 Processor (12th Gen)16 GB LPDDR5...</td>\n",
              "      <td>Intel Core i7 Processor</td>\n",
              "      <td>16 GB</td>\n",
              "      <td>Windows 11 Operating System</td>\n",
              "      <td>LPDDR5 RAM</td>\n",
              "      <td>512 GB</td>\n",
              "      <td>SSD</td>\n",
              "      <td>ASUS</td>\n",
              "    </tr>\n",
              "    <tr>\n",
              "      <th>719</th>\n",
              "      <td>Lenovo Ideapad Slim 3i Core i5 10th Gen - (8 G...</td>\n",
              "      <td>4.2</td>\n",
              "      <td>₹50,990</td>\n",
              "      <td>Intel Core i5 Processor (10th Gen)8 GB DDR4 RA...</td>\n",
              "      <td>Intel Core i5 Processor</td>\n",
              "      <td>8 GB</td>\n",
              "      <td>Windows 10 Operating System</td>\n",
              "      <td>DDR4 RAM</td>\n",
              "      <td>1 TB,256 GB</td>\n",
              "      <td>HDD,SSD</td>\n",
              "      <td>Lenovo</td>\n",
              "    </tr>\n",
              "  </tbody>\n",
              "</table>\n",
              "<p>720 rows × 11 columns</p>\n",
              "</div>\n",
              "      <button class=\"colab-df-convert\" onclick=\"convertToInteractive('df-bb6ffa59-673a-4fac-9621-a85b11c92e8f')\"\n",
              "              title=\"Convert this dataframe to an interactive table.\"\n",
              "              style=\"display:none;\">\n",
              "        \n",
              "  <svg xmlns=\"http://www.w3.org/2000/svg\" height=\"24px\"viewBox=\"0 0 24 24\"\n",
              "       width=\"24px\">\n",
              "    <path d=\"M0 0h24v24H0V0z\" fill=\"none\"/>\n",
              "    <path d=\"M18.56 5.44l.94 2.06.94-2.06 2.06-.94-2.06-.94-.94-2.06-.94 2.06-2.06.94zm-11 1L8.5 8.5l.94-2.06 2.06-.94-2.06-.94L8.5 2.5l-.94 2.06-2.06.94zm10 10l.94 2.06.94-2.06 2.06-.94-2.06-.94-.94-2.06-.94 2.06-2.06.94z\"/><path d=\"M17.41 7.96l-1.37-1.37c-.4-.4-.92-.59-1.43-.59-.52 0-1.04.2-1.43.59L10.3 9.45l-7.72 7.72c-.78.78-.78 2.05 0 2.83L4 21.41c.39.39.9.59 1.41.59.51 0 1.02-.2 1.41-.59l7.78-7.78 2.81-2.81c.8-.78.8-2.07 0-2.86zM5.41 20L4 18.59l7.72-7.72 1.47 1.35L5.41 20z\"/>\n",
              "  </svg>\n",
              "      </button>\n",
              "      \n",
              "  <style>\n",
              "    .colab-df-container {\n",
              "      display:flex;\n",
              "      flex-wrap:wrap;\n",
              "      gap: 12px;\n",
              "    }\n",
              "\n",
              "    .colab-df-convert {\n",
              "      background-color: #E8F0FE;\n",
              "      border: none;\n",
              "      border-radius: 50%;\n",
              "      cursor: pointer;\n",
              "      display: none;\n",
              "      fill: #1967D2;\n",
              "      height: 32px;\n",
              "      padding: 0 0 0 0;\n",
              "      width: 32px;\n",
              "    }\n",
              "\n",
              "    .colab-df-convert:hover {\n",
              "      background-color: #E2EBFA;\n",
              "      box-shadow: 0px 1px 2px rgba(60, 64, 67, 0.3), 0px 1px 3px 1px rgba(60, 64, 67, 0.15);\n",
              "      fill: #174EA6;\n",
              "    }\n",
              "\n",
              "    [theme=dark] .colab-df-convert {\n",
              "      background-color: #3B4455;\n",
              "      fill: #D2E3FC;\n",
              "    }\n",
              "\n",
              "    [theme=dark] .colab-df-convert:hover {\n",
              "      background-color: #434B5C;\n",
              "      box-shadow: 0px 1px 3px 1px rgba(0, 0, 0, 0.15);\n",
              "      filter: drop-shadow(0px 1px 2px rgba(0, 0, 0, 0.3));\n",
              "      fill: #FFFFFF;\n",
              "    }\n",
              "  </style>\n",
              "\n",
              "      <script>\n",
              "        const buttonEl =\n",
              "          document.querySelector('#df-bb6ffa59-673a-4fac-9621-a85b11c92e8f button.colab-df-convert');\n",
              "        buttonEl.style.display =\n",
              "          google.colab.kernel.accessAllowed ? 'block' : 'none';\n",
              "\n",
              "        async function convertToInteractive(key) {\n",
              "          const element = document.querySelector('#df-bb6ffa59-673a-4fac-9621-a85b11c92e8f');\n",
              "          const dataTable =\n",
              "            await google.colab.kernel.invokeFunction('convertToInteractive',\n",
              "                                                     [key], {});\n",
              "          if (!dataTable) return;\n",
              "\n",
              "          const docLinkHtml = 'Like what you see? Visit the ' +\n",
              "            '<a target=\"_blank\" href=https://colab.research.google.com/notebooks/data_table.ipynb>data table notebook</a>'\n",
              "            + ' to learn more about interactive tables.';\n",
              "          element.innerHTML = '';\n",
              "          dataTable['output_type'] = 'display_data';\n",
              "          await google.colab.output.renderOutput(dataTable, element);\n",
              "          const docLink = document.createElement('div');\n",
              "          docLink.innerHTML = docLinkHtml;\n",
              "          element.appendChild(docLink);\n",
              "        }\n",
              "      </script>\n",
              "    </div>\n",
              "  </div>\n",
              "  "
            ]
          },
          "metadata": {},
          "execution_count": 154
        }
      ]
    },
    {
      "cell_type": "code",
      "source": [
        "df.isnull().sum()"
      ],
      "metadata": {
        "colab": {
          "base_uri": "https://localhost:8080/"
        },
        "id": "Av04X-pd9HyH",
        "outputId": "b11a87c1-d7e3-423e-d51f-ee4afffa7c48"
      },
      "execution_count": 155,
      "outputs": [
        {
          "output_type": "execute_result",
          "data": {
            "text/plain": [
              "Product        0\n",
              "Rating       139\n",
              "MRP            0\n",
              "Feature        0\n",
              "processor      0\n",
              "RAM            0\n",
              "os             0\n",
              "RAM TYPE       0\n",
              "ROM_SIZE       0\n",
              "ROM_TYPE       0\n",
              "Brand          0\n",
              "dtype: int64"
            ]
          },
          "metadata": {},
          "execution_count": 155
        }
      ]
    },
    {
      "cell_type": "code",
      "source": [
        "df.info()"
      ],
      "metadata": {
        "colab": {
          "base_uri": "https://localhost:8080/"
        },
        "id": "XG-E1fNI-vCx",
        "outputId": "53b67d5a-8296-414f-975d-0612a5168dab"
      },
      "execution_count": 156,
      "outputs": [
        {
          "output_type": "stream",
          "name": "stdout",
          "text": [
            "<class 'pandas.core.frame.DataFrame'>\n",
            "RangeIndex: 720 entries, 0 to 719\n",
            "Data columns (total 11 columns):\n",
            " #   Column     Non-Null Count  Dtype  \n",
            "---  ------     --------------  -----  \n",
            " 0   Product    720 non-null    object \n",
            " 1   Rating     581 non-null    float64\n",
            " 2   MRP        720 non-null    object \n",
            " 3   Feature    720 non-null    object \n",
            " 4   processor  720 non-null    object \n",
            " 5   RAM        720 non-null    object \n",
            " 6   os         720 non-null    object \n",
            " 7   RAM TYPE   720 non-null    object \n",
            " 8   ROM_SIZE   720 non-null    object \n",
            " 9   ROM_TYPE   720 non-null    object \n",
            " 10  Brand      720 non-null    object \n",
            "dtypes: float64(1), object(10)\n",
            "memory usage: 62.0+ KB\n"
          ]
        }
      ]
    },
    {
      "cell_type": "code",
      "source": [
        "df['MRP'] = df['MRP'].str.replace(',', '')\n",
        "df['MRP'] = df['MRP'].str.replace('₹', '')\n",
        "df\n"
      ],
      "metadata": {
        "colab": {
          "base_uri": "https://localhost:8080/",
          "height": 424
        },
        "id": "-uXMGd5U9W2i",
        "outputId": "5890cac6-2224-45d6-d5e5-d9826d49140d"
      },
      "execution_count": 157,
      "outputs": [
        {
          "output_type": "execute_result",
          "data": {
            "text/plain": [
              "                                               Product  Rating     MRP  \\\n",
              "0    Lenovo IdeaPad 3 Core i3 11th Gen - (8 GB/256 ...     4.2   36990   \n",
              "1    Lenovo IdeaPad 3 Core i3 11th Gen - (8 GB/512 ...     4.2   39990   \n",
              "2    ASUS VivoBook 15 (2022) Core i3 10th Gen - (8 ...     4.3   32990   \n",
              "3    HP Pavilion Ryzen 5 Hexa Core AMD R5-5600H - (...     4.4   49990   \n",
              "4    ASUS TUF Gaming F15 Core i5 10th Gen - (8 GB/5...     4.4   49990   \n",
              "..                                                 ...     ...     ...   \n",
              "715  ASUS Chromebook Flip Touch Celeron Dual Core -...     4.0   23490   \n",
              "716  Lenovo IdeaPad Gaming 3 Ryzen 7 Octa Core AMD ...     4.5   73490   \n",
              "717  ASUS ROG Zephyrus G15 Ryzen 9 Octa Core 6900HS...     NaN  194990   \n",
              "718  ASUS Zenbook Flip 14 OLED (2022) Touch Panel C...     3.0  125990   \n",
              "719  Lenovo Ideapad Slim 3i Core i5 10th Gen - (8 G...     4.2   50990   \n",
              "\n",
              "                                               Feature  \\\n",
              "0    Intel Core i3 Processor (11th Gen)8 GB DDR4 RA...   \n",
              "1    Intel Core i3 Processor (11th Gen)8 GB DDR4 RA...   \n",
              "2    Intel Core i3 Processor (10th Gen)8 GB DDR4 RA...   \n",
              "3    AMD Ryzen 5 Hexa Core Processor8 GB DDR4 RAM64...   \n",
              "4    Intel Core i5 Processor (10th Gen)8 GB DDR4 RA...   \n",
              "..                                                 ...   \n",
              "715  Intel Celeron Dual Core Processor4 GB LPDDR4 R...   \n",
              "716  AMD Ryzen 7 Octa Core Processor8 GB DDR4 RAM64...   \n",
              "717  AMD Ryzen 9 Octa Core Processor16 GB DDR5 RAM6...   \n",
              "718  Intel Core i7 Processor (12th Gen)16 GB LPDDR5...   \n",
              "719  Intel Core i5 Processor (10th Gen)8 GB DDR4 RA...   \n",
              "\n",
              "                             processor    RAM                           os  \\\n",
              "0              Intel Core i3 Processor   8 GB  Windows 11 Operating System   \n",
              "1              Intel Core i3 Processor   8 GB  Windows 11 Operating System   \n",
              "2              Intel Core i3 Processor   8 GB  Windows 11 Operating System   \n",
              "3      AMD Ryzen 5 Hexa Core Processor   8 GB  Windows 10 Operating System   \n",
              "4              Intel Core i5 Processor   8 GB  Windows 11 Operating System   \n",
              "..                                 ...    ...                          ...   \n",
              "715  Intel Celeron Dual Core Processor   4 GB      Chrome Operating System   \n",
              "716    AMD Ryzen 7 Octa Core Processor   8 GB  Windows 11 Operating System   \n",
              "717    AMD Ryzen 9 Octa Core Processor  16 GB  Windows 11 Operating System   \n",
              "718            Intel Core i7 Processor  16 GB  Windows 11 Operating System   \n",
              "719            Intel Core i5 Processor   8 GB  Windows 10 Operating System   \n",
              "\n",
              "       RAM TYPE     ROM_SIZE ROM_TYPE   Brand  \n",
              "0      DDR4 RAM       256 GB      SSD  Lenovo  \n",
              "1      DDR4 RAM       512 GB      SSD  Lenovo  \n",
              "2      DDR4 RAM       512 GB      SSD    ASUS  \n",
              "3      DDR4 RAM       512 GB      SSD      HP  \n",
              "4      DDR4 RAM       512 GB      SSD    ASUS  \n",
              "..          ...          ...      ...     ...  \n",
              "715  LPDDR4 RAM                          ASUS  \n",
              "716    DDR4 RAM       512 GB      SSD  Lenovo  \n",
              "717    DDR5 RAM         1 TB      SSD    ASUS  \n",
              "718  LPDDR5 RAM       512 GB      SSD    ASUS  \n",
              "719    DDR4 RAM  1 TB,256 GB  HDD,SSD  Lenovo  \n",
              "\n",
              "[720 rows x 11 columns]"
            ],
            "text/html": [
              "\n",
              "  <div id=\"df-40628de3-1932-4a76-b9a3-253889a508a9\">\n",
              "    <div class=\"colab-df-container\">\n",
              "      <div>\n",
              "<style scoped>\n",
              "    .dataframe tbody tr th:only-of-type {\n",
              "        vertical-align: middle;\n",
              "    }\n",
              "\n",
              "    .dataframe tbody tr th {\n",
              "        vertical-align: top;\n",
              "    }\n",
              "\n",
              "    .dataframe thead th {\n",
              "        text-align: right;\n",
              "    }\n",
              "</style>\n",
              "<table border=\"1\" class=\"dataframe\">\n",
              "  <thead>\n",
              "    <tr style=\"text-align: right;\">\n",
              "      <th></th>\n",
              "      <th>Product</th>\n",
              "      <th>Rating</th>\n",
              "      <th>MRP</th>\n",
              "      <th>Feature</th>\n",
              "      <th>processor</th>\n",
              "      <th>RAM</th>\n",
              "      <th>os</th>\n",
              "      <th>RAM TYPE</th>\n",
              "      <th>ROM_SIZE</th>\n",
              "      <th>ROM_TYPE</th>\n",
              "      <th>Brand</th>\n",
              "    </tr>\n",
              "  </thead>\n",
              "  <tbody>\n",
              "    <tr>\n",
              "      <th>0</th>\n",
              "      <td>Lenovo IdeaPad 3 Core i3 11th Gen - (8 GB/256 ...</td>\n",
              "      <td>4.2</td>\n",
              "      <td>36990</td>\n",
              "      <td>Intel Core i3 Processor (11th Gen)8 GB DDR4 RA...</td>\n",
              "      <td>Intel Core i3 Processor</td>\n",
              "      <td>8 GB</td>\n",
              "      <td>Windows 11 Operating System</td>\n",
              "      <td>DDR4 RAM</td>\n",
              "      <td>256 GB</td>\n",
              "      <td>SSD</td>\n",
              "      <td>Lenovo</td>\n",
              "    </tr>\n",
              "    <tr>\n",
              "      <th>1</th>\n",
              "      <td>Lenovo IdeaPad 3 Core i3 11th Gen - (8 GB/512 ...</td>\n",
              "      <td>4.2</td>\n",
              "      <td>39990</td>\n",
              "      <td>Intel Core i3 Processor (11th Gen)8 GB DDR4 RA...</td>\n",
              "      <td>Intel Core i3 Processor</td>\n",
              "      <td>8 GB</td>\n",
              "      <td>Windows 11 Operating System</td>\n",
              "      <td>DDR4 RAM</td>\n",
              "      <td>512 GB</td>\n",
              "      <td>SSD</td>\n",
              "      <td>Lenovo</td>\n",
              "    </tr>\n",
              "    <tr>\n",
              "      <th>2</th>\n",
              "      <td>ASUS VivoBook 15 (2022) Core i3 10th Gen - (8 ...</td>\n",
              "      <td>4.3</td>\n",
              "      <td>32990</td>\n",
              "      <td>Intel Core i3 Processor (10th Gen)8 GB DDR4 RA...</td>\n",
              "      <td>Intel Core i3 Processor</td>\n",
              "      <td>8 GB</td>\n",
              "      <td>Windows 11 Operating System</td>\n",
              "      <td>DDR4 RAM</td>\n",
              "      <td>512 GB</td>\n",
              "      <td>SSD</td>\n",
              "      <td>ASUS</td>\n",
              "    </tr>\n",
              "    <tr>\n",
              "      <th>3</th>\n",
              "      <td>HP Pavilion Ryzen 5 Hexa Core AMD R5-5600H - (...</td>\n",
              "      <td>4.4</td>\n",
              "      <td>49990</td>\n",
              "      <td>AMD Ryzen 5 Hexa Core Processor8 GB DDR4 RAM64...</td>\n",
              "      <td>AMD Ryzen 5 Hexa Core Processor</td>\n",
              "      <td>8 GB</td>\n",
              "      <td>Windows 10 Operating System</td>\n",
              "      <td>DDR4 RAM</td>\n",
              "      <td>512 GB</td>\n",
              "      <td>SSD</td>\n",
              "      <td>HP</td>\n",
              "    </tr>\n",
              "    <tr>\n",
              "      <th>4</th>\n",
              "      <td>ASUS TUF Gaming F15 Core i5 10th Gen - (8 GB/5...</td>\n",
              "      <td>4.4</td>\n",
              "      <td>49990</td>\n",
              "      <td>Intel Core i5 Processor (10th Gen)8 GB DDR4 RA...</td>\n",
              "      <td>Intel Core i5 Processor</td>\n",
              "      <td>8 GB</td>\n",
              "      <td>Windows 11 Operating System</td>\n",
              "      <td>DDR4 RAM</td>\n",
              "      <td>512 GB</td>\n",
              "      <td>SSD</td>\n",
              "      <td>ASUS</td>\n",
              "    </tr>\n",
              "    <tr>\n",
              "      <th>...</th>\n",
              "      <td>...</td>\n",
              "      <td>...</td>\n",
              "      <td>...</td>\n",
              "      <td>...</td>\n",
              "      <td>...</td>\n",
              "      <td>...</td>\n",
              "      <td>...</td>\n",
              "      <td>...</td>\n",
              "      <td>...</td>\n",
              "      <td>...</td>\n",
              "      <td>...</td>\n",
              "    </tr>\n",
              "    <tr>\n",
              "      <th>715</th>\n",
              "      <td>ASUS Chromebook Flip Touch Celeron Dual Core -...</td>\n",
              "      <td>4.0</td>\n",
              "      <td>23490</td>\n",
              "      <td>Intel Celeron Dual Core Processor4 GB LPDDR4 R...</td>\n",
              "      <td>Intel Celeron Dual Core Processor</td>\n",
              "      <td>4 GB</td>\n",
              "      <td>Chrome Operating System</td>\n",
              "      <td>LPDDR4 RAM</td>\n",
              "      <td></td>\n",
              "      <td></td>\n",
              "      <td>ASUS</td>\n",
              "    </tr>\n",
              "    <tr>\n",
              "      <th>716</th>\n",
              "      <td>Lenovo IdeaPad Gaming 3 Ryzen 7 Octa Core AMD ...</td>\n",
              "      <td>4.5</td>\n",
              "      <td>73490</td>\n",
              "      <td>AMD Ryzen 7 Octa Core Processor8 GB DDR4 RAM64...</td>\n",
              "      <td>AMD Ryzen 7 Octa Core Processor</td>\n",
              "      <td>8 GB</td>\n",
              "      <td>Windows 11 Operating System</td>\n",
              "      <td>DDR4 RAM</td>\n",
              "      <td>512 GB</td>\n",
              "      <td>SSD</td>\n",
              "      <td>Lenovo</td>\n",
              "    </tr>\n",
              "    <tr>\n",
              "      <th>717</th>\n",
              "      <td>ASUS ROG Zephyrus G15 Ryzen 9 Octa Core 6900HS...</td>\n",
              "      <td>NaN</td>\n",
              "      <td>194990</td>\n",
              "      <td>AMD Ryzen 9 Octa Core Processor16 GB DDR5 RAM6...</td>\n",
              "      <td>AMD Ryzen 9 Octa Core Processor</td>\n",
              "      <td>16 GB</td>\n",
              "      <td>Windows 11 Operating System</td>\n",
              "      <td>DDR5 RAM</td>\n",
              "      <td>1 TB</td>\n",
              "      <td>SSD</td>\n",
              "      <td>ASUS</td>\n",
              "    </tr>\n",
              "    <tr>\n",
              "      <th>718</th>\n",
              "      <td>ASUS Zenbook Flip 14 OLED (2022) Touch Panel C...</td>\n",
              "      <td>3.0</td>\n",
              "      <td>125990</td>\n",
              "      <td>Intel Core i7 Processor (12th Gen)16 GB LPDDR5...</td>\n",
              "      <td>Intel Core i7 Processor</td>\n",
              "      <td>16 GB</td>\n",
              "      <td>Windows 11 Operating System</td>\n",
              "      <td>LPDDR5 RAM</td>\n",
              "      <td>512 GB</td>\n",
              "      <td>SSD</td>\n",
              "      <td>ASUS</td>\n",
              "    </tr>\n",
              "    <tr>\n",
              "      <th>719</th>\n",
              "      <td>Lenovo Ideapad Slim 3i Core i5 10th Gen - (8 G...</td>\n",
              "      <td>4.2</td>\n",
              "      <td>50990</td>\n",
              "      <td>Intel Core i5 Processor (10th Gen)8 GB DDR4 RA...</td>\n",
              "      <td>Intel Core i5 Processor</td>\n",
              "      <td>8 GB</td>\n",
              "      <td>Windows 10 Operating System</td>\n",
              "      <td>DDR4 RAM</td>\n",
              "      <td>1 TB,256 GB</td>\n",
              "      <td>HDD,SSD</td>\n",
              "      <td>Lenovo</td>\n",
              "    </tr>\n",
              "  </tbody>\n",
              "</table>\n",
              "<p>720 rows × 11 columns</p>\n",
              "</div>\n",
              "      <button class=\"colab-df-convert\" onclick=\"convertToInteractive('df-40628de3-1932-4a76-b9a3-253889a508a9')\"\n",
              "              title=\"Convert this dataframe to an interactive table.\"\n",
              "              style=\"display:none;\">\n",
              "        \n",
              "  <svg xmlns=\"http://www.w3.org/2000/svg\" height=\"24px\"viewBox=\"0 0 24 24\"\n",
              "       width=\"24px\">\n",
              "    <path d=\"M0 0h24v24H0V0z\" fill=\"none\"/>\n",
              "    <path d=\"M18.56 5.44l.94 2.06.94-2.06 2.06-.94-2.06-.94-.94-2.06-.94 2.06-2.06.94zm-11 1L8.5 8.5l.94-2.06 2.06-.94-2.06-.94L8.5 2.5l-.94 2.06-2.06.94zm10 10l.94 2.06.94-2.06 2.06-.94-2.06-.94-.94-2.06-.94 2.06-2.06.94z\"/><path d=\"M17.41 7.96l-1.37-1.37c-.4-.4-.92-.59-1.43-.59-.52 0-1.04.2-1.43.59L10.3 9.45l-7.72 7.72c-.78.78-.78 2.05 0 2.83L4 21.41c.39.39.9.59 1.41.59.51 0 1.02-.2 1.41-.59l7.78-7.78 2.81-2.81c.8-.78.8-2.07 0-2.86zM5.41 20L4 18.59l7.72-7.72 1.47 1.35L5.41 20z\"/>\n",
              "  </svg>\n",
              "      </button>\n",
              "      \n",
              "  <style>\n",
              "    .colab-df-container {\n",
              "      display:flex;\n",
              "      flex-wrap:wrap;\n",
              "      gap: 12px;\n",
              "    }\n",
              "\n",
              "    .colab-df-convert {\n",
              "      background-color: #E8F0FE;\n",
              "      border: none;\n",
              "      border-radius: 50%;\n",
              "      cursor: pointer;\n",
              "      display: none;\n",
              "      fill: #1967D2;\n",
              "      height: 32px;\n",
              "      padding: 0 0 0 0;\n",
              "      width: 32px;\n",
              "    }\n",
              "\n",
              "    .colab-df-convert:hover {\n",
              "      background-color: #E2EBFA;\n",
              "      box-shadow: 0px 1px 2px rgba(60, 64, 67, 0.3), 0px 1px 3px 1px rgba(60, 64, 67, 0.15);\n",
              "      fill: #174EA6;\n",
              "    }\n",
              "\n",
              "    [theme=dark] .colab-df-convert {\n",
              "      background-color: #3B4455;\n",
              "      fill: #D2E3FC;\n",
              "    }\n",
              "\n",
              "    [theme=dark] .colab-df-convert:hover {\n",
              "      background-color: #434B5C;\n",
              "      box-shadow: 0px 1px 3px 1px rgba(0, 0, 0, 0.15);\n",
              "      filter: drop-shadow(0px 1px 2px rgba(0, 0, 0, 0.3));\n",
              "      fill: #FFFFFF;\n",
              "    }\n",
              "  </style>\n",
              "\n",
              "      <script>\n",
              "        const buttonEl =\n",
              "          document.querySelector('#df-40628de3-1932-4a76-b9a3-253889a508a9 button.colab-df-convert');\n",
              "        buttonEl.style.display =\n",
              "          google.colab.kernel.accessAllowed ? 'block' : 'none';\n",
              "\n",
              "        async function convertToInteractive(key) {\n",
              "          const element = document.querySelector('#df-40628de3-1932-4a76-b9a3-253889a508a9');\n",
              "          const dataTable =\n",
              "            await google.colab.kernel.invokeFunction('convertToInteractive',\n",
              "                                                     [key], {});\n",
              "          if (!dataTable) return;\n",
              "\n",
              "          const docLinkHtml = 'Like what you see? Visit the ' +\n",
              "            '<a target=\"_blank\" href=https://colab.research.google.com/notebooks/data_table.ipynb>data table notebook</a>'\n",
              "            + ' to learn more about interactive tables.';\n",
              "          element.innerHTML = '';\n",
              "          dataTable['output_type'] = 'display_data';\n",
              "          await google.colab.output.renderOutput(dataTable, element);\n",
              "          const docLink = document.createElement('div');\n",
              "          docLink.innerHTML = docLinkHtml;\n",
              "          element.appendChild(docLink);\n",
              "        }\n",
              "      </script>\n",
              "    </div>\n",
              "  </div>\n",
              "  "
            ]
          },
          "metadata": {},
          "execution_count": 157
        }
      ]
    },
    {
      "cell_type": "code",
      "source": [
        "df[\"MRP\"]= df[\"MRP\"].astype('int')"
      ],
      "metadata": {
        "id": "LsNe0Wpv_Q2r"
      },
      "execution_count": 158,
      "outputs": []
    },
    {
      "cell_type": "markdown",
      "source": [
        "prediction price using ml"
      ],
      "metadata": {
        "id": "Ht9eXQqlQLZu"
      }
    },
    {
      "cell_type": "code",
      "source": [
        "df.columns"
      ],
      "metadata": {
        "colab": {
          "base_uri": "https://localhost:8080/"
        },
        "id": "kblmqJJJPwIR",
        "outputId": "656a84b7-dca3-49af-8842-d063e227eab7"
      },
      "execution_count": 159,
      "outputs": [
        {
          "output_type": "execute_result",
          "data": {
            "text/plain": [
              "Index(['Product', 'Rating', 'MRP', 'Feature', 'processor', 'RAM', 'os',\n",
              "       'RAM TYPE', 'ROM_SIZE', 'ROM_TYPE', 'Brand'],\n",
              "      dtype='object')"
            ]
          },
          "metadata": {},
          "execution_count": 159
        }
      ]
    },
    {
      "cell_type": "markdown",
      "source": [
        "from above  colums we have choose colums that are used to determine cost of laptop"
      ],
      "metadata": {
        "id": "sqA-w-HHRE8I"
      }
    },
    {
      "cell_type": "code",
      "source": [
        "dfml = df[['MRP', 'processor','RAM','os','RAM TYPE','Brand','ROM_SIZE','ROM_TYPE']]"
      ],
      "metadata": {
        "id": "BF6IU8K-REiB"
      },
      "execution_count": 160,
      "outputs": []
    },
    {
      "cell_type": "code",
      "source": [
        "dfml.head()"
      ],
      "metadata": {
        "colab": {
          "base_uri": "https://localhost:8080/",
          "height": 206
        },
        "id": "J7MNLNCLSZqn",
        "outputId": "8cfe511f-29ed-4077-dc7b-c8eedb625dca"
      },
      "execution_count": 161,
      "outputs": [
        {
          "output_type": "execute_result",
          "data": {
            "text/plain": [
              "     MRP                        processor   RAM                           os  \\\n",
              "0  36990          Intel Core i3 Processor  8 GB  Windows 11 Operating System   \n",
              "1  39990          Intel Core i3 Processor  8 GB  Windows 11 Operating System   \n",
              "2  32990          Intel Core i3 Processor  8 GB  Windows 11 Operating System   \n",
              "3  49990  AMD Ryzen 5 Hexa Core Processor  8 GB  Windows 10 Operating System   \n",
              "4  49990          Intel Core i5 Processor  8 GB  Windows 11 Operating System   \n",
              "\n",
              "   RAM TYPE   Brand ROM_SIZE ROM_TYPE  \n",
              "0  DDR4 RAM  Lenovo   256 GB      SSD  \n",
              "1  DDR4 RAM  Lenovo   512 GB      SSD  \n",
              "2  DDR4 RAM    ASUS   512 GB      SSD  \n",
              "3  DDR4 RAM      HP   512 GB      SSD  \n",
              "4  DDR4 RAM    ASUS   512 GB      SSD  "
            ],
            "text/html": [
              "\n",
              "  <div id=\"df-04061bf0-365a-479f-b316-df091b1f84de\">\n",
              "    <div class=\"colab-df-container\">\n",
              "      <div>\n",
              "<style scoped>\n",
              "    .dataframe tbody tr th:only-of-type {\n",
              "        vertical-align: middle;\n",
              "    }\n",
              "\n",
              "    .dataframe tbody tr th {\n",
              "        vertical-align: top;\n",
              "    }\n",
              "\n",
              "    .dataframe thead th {\n",
              "        text-align: right;\n",
              "    }\n",
              "</style>\n",
              "<table border=\"1\" class=\"dataframe\">\n",
              "  <thead>\n",
              "    <tr style=\"text-align: right;\">\n",
              "      <th></th>\n",
              "      <th>MRP</th>\n",
              "      <th>processor</th>\n",
              "      <th>RAM</th>\n",
              "      <th>os</th>\n",
              "      <th>RAM TYPE</th>\n",
              "      <th>Brand</th>\n",
              "      <th>ROM_SIZE</th>\n",
              "      <th>ROM_TYPE</th>\n",
              "    </tr>\n",
              "  </thead>\n",
              "  <tbody>\n",
              "    <tr>\n",
              "      <th>0</th>\n",
              "      <td>36990</td>\n",
              "      <td>Intel Core i3 Processor</td>\n",
              "      <td>8 GB</td>\n",
              "      <td>Windows 11 Operating System</td>\n",
              "      <td>DDR4 RAM</td>\n",
              "      <td>Lenovo</td>\n",
              "      <td>256 GB</td>\n",
              "      <td>SSD</td>\n",
              "    </tr>\n",
              "    <tr>\n",
              "      <th>1</th>\n",
              "      <td>39990</td>\n",
              "      <td>Intel Core i3 Processor</td>\n",
              "      <td>8 GB</td>\n",
              "      <td>Windows 11 Operating System</td>\n",
              "      <td>DDR4 RAM</td>\n",
              "      <td>Lenovo</td>\n",
              "      <td>512 GB</td>\n",
              "      <td>SSD</td>\n",
              "    </tr>\n",
              "    <tr>\n",
              "      <th>2</th>\n",
              "      <td>32990</td>\n",
              "      <td>Intel Core i3 Processor</td>\n",
              "      <td>8 GB</td>\n",
              "      <td>Windows 11 Operating System</td>\n",
              "      <td>DDR4 RAM</td>\n",
              "      <td>ASUS</td>\n",
              "      <td>512 GB</td>\n",
              "      <td>SSD</td>\n",
              "    </tr>\n",
              "    <tr>\n",
              "      <th>3</th>\n",
              "      <td>49990</td>\n",
              "      <td>AMD Ryzen 5 Hexa Core Processor</td>\n",
              "      <td>8 GB</td>\n",
              "      <td>Windows 10 Operating System</td>\n",
              "      <td>DDR4 RAM</td>\n",
              "      <td>HP</td>\n",
              "      <td>512 GB</td>\n",
              "      <td>SSD</td>\n",
              "    </tr>\n",
              "    <tr>\n",
              "      <th>4</th>\n",
              "      <td>49990</td>\n",
              "      <td>Intel Core i5 Processor</td>\n",
              "      <td>8 GB</td>\n",
              "      <td>Windows 11 Operating System</td>\n",
              "      <td>DDR4 RAM</td>\n",
              "      <td>ASUS</td>\n",
              "      <td>512 GB</td>\n",
              "      <td>SSD</td>\n",
              "    </tr>\n",
              "  </tbody>\n",
              "</table>\n",
              "</div>\n",
              "      <button class=\"colab-df-convert\" onclick=\"convertToInteractive('df-04061bf0-365a-479f-b316-df091b1f84de')\"\n",
              "              title=\"Convert this dataframe to an interactive table.\"\n",
              "              style=\"display:none;\">\n",
              "        \n",
              "  <svg xmlns=\"http://www.w3.org/2000/svg\" height=\"24px\"viewBox=\"0 0 24 24\"\n",
              "       width=\"24px\">\n",
              "    <path d=\"M0 0h24v24H0V0z\" fill=\"none\"/>\n",
              "    <path d=\"M18.56 5.44l.94 2.06.94-2.06 2.06-.94-2.06-.94-.94-2.06-.94 2.06-2.06.94zm-11 1L8.5 8.5l.94-2.06 2.06-.94-2.06-.94L8.5 2.5l-.94 2.06-2.06.94zm10 10l.94 2.06.94-2.06 2.06-.94-2.06-.94-.94-2.06-.94 2.06-2.06.94z\"/><path d=\"M17.41 7.96l-1.37-1.37c-.4-.4-.92-.59-1.43-.59-.52 0-1.04.2-1.43.59L10.3 9.45l-7.72 7.72c-.78.78-.78 2.05 0 2.83L4 21.41c.39.39.9.59 1.41.59.51 0 1.02-.2 1.41-.59l7.78-7.78 2.81-2.81c.8-.78.8-2.07 0-2.86zM5.41 20L4 18.59l7.72-7.72 1.47 1.35L5.41 20z\"/>\n",
              "  </svg>\n",
              "      </button>\n",
              "      \n",
              "  <style>\n",
              "    .colab-df-container {\n",
              "      display:flex;\n",
              "      flex-wrap:wrap;\n",
              "      gap: 12px;\n",
              "    }\n",
              "\n",
              "    .colab-df-convert {\n",
              "      background-color: #E8F0FE;\n",
              "      border: none;\n",
              "      border-radius: 50%;\n",
              "      cursor: pointer;\n",
              "      display: none;\n",
              "      fill: #1967D2;\n",
              "      height: 32px;\n",
              "      padding: 0 0 0 0;\n",
              "      width: 32px;\n",
              "    }\n",
              "\n",
              "    .colab-df-convert:hover {\n",
              "      background-color: #E2EBFA;\n",
              "      box-shadow: 0px 1px 2px rgba(60, 64, 67, 0.3), 0px 1px 3px 1px rgba(60, 64, 67, 0.15);\n",
              "      fill: #174EA6;\n",
              "    }\n",
              "\n",
              "    [theme=dark] .colab-df-convert {\n",
              "      background-color: #3B4455;\n",
              "      fill: #D2E3FC;\n",
              "    }\n",
              "\n",
              "    [theme=dark] .colab-df-convert:hover {\n",
              "      background-color: #434B5C;\n",
              "      box-shadow: 0px 1px 3px 1px rgba(0, 0, 0, 0.15);\n",
              "      filter: drop-shadow(0px 1px 2px rgba(0, 0, 0, 0.3));\n",
              "      fill: #FFFFFF;\n",
              "    }\n",
              "  </style>\n",
              "\n",
              "      <script>\n",
              "        const buttonEl =\n",
              "          document.querySelector('#df-04061bf0-365a-479f-b316-df091b1f84de button.colab-df-convert');\n",
              "        buttonEl.style.display =\n",
              "          google.colab.kernel.accessAllowed ? 'block' : 'none';\n",
              "\n",
              "        async function convertToInteractive(key) {\n",
              "          const element = document.querySelector('#df-04061bf0-365a-479f-b316-df091b1f84de');\n",
              "          const dataTable =\n",
              "            await google.colab.kernel.invokeFunction('convertToInteractive',\n",
              "                                                     [key], {});\n",
              "          if (!dataTable) return;\n",
              "\n",
              "          const docLinkHtml = 'Like what you see? Visit the ' +\n",
              "            '<a target=\"_blank\" href=https://colab.research.google.com/notebooks/data_table.ipynb>data table notebook</a>'\n",
              "            + ' to learn more about interactive tables.';\n",
              "          element.innerHTML = '';\n",
              "          dataTable['output_type'] = 'display_data';\n",
              "          await google.colab.output.renderOutput(dataTable, element);\n",
              "          const docLink = document.createElement('div');\n",
              "          docLink.innerHTML = docLinkHtml;\n",
              "          element.appendChild(docLink);\n",
              "        }\n",
              "      </script>\n",
              "    </div>\n",
              "  </div>\n",
              "  "
            ]
          },
          "metadata": {},
          "execution_count": 161
        }
      ]
    },
    {
      "cell_type": "code",
      "source": [
        "dfml.isnull().sum()"
      ],
      "metadata": {
        "colab": {
          "base_uri": "https://localhost:8080/"
        },
        "id": "-jNme0YLScRn",
        "outputId": "0f9c2cc9-eb21-49c9-a5f6-7f46200ba20b"
      },
      "execution_count": 162,
      "outputs": [
        {
          "output_type": "execute_result",
          "data": {
            "text/plain": [
              "MRP          0\n",
              "processor    0\n",
              "RAM          0\n",
              "os           0\n",
              "RAM TYPE     0\n",
              "Brand        0\n",
              "ROM_SIZE     0\n",
              "ROM_TYPE     0\n",
              "dtype: int64"
            ]
          },
          "metadata": {},
          "execution_count": 162
        }
      ]
    },
    {
      "cell_type": "markdown",
      "source": [
        "analysis of model"
      ],
      "metadata": {
        "id": "Aa-g5BwcvlDi"
      }
    },
    {
      "cell_type": "markdown",
      "source": [
        "checking th all data column  values in order determine cost like if there are unneccary values we can delete"
      ],
      "metadata": {
        "id": "TSTJUyhzH9G6"
      }
    },
    {
      "cell_type": "code",
      "source": [
        " dfml['processor'].value_counts()"
      ],
      "metadata": {
        "colab": {
          "base_uri": "https://localhost:8080/"
        },
        "id": "BZpHNjYWUqdn",
        "outputId": "621073db-6f67-4ea7-bbc0-58493c577ff8"
      },
      "execution_count": 163,
      "outputs": [
        {
          "output_type": "execute_result",
          "data": {
            "text/plain": [
              "Intel Core i5 Processor                   151\n",
              "Intel Core i3 Processor                   129\n",
              "AMD Ryzen 9 Octa Core Processor            87\n",
              "AMD Ryzen 7 Octa Core Processor            79\n",
              "Intel Core i7 Processor                    50\n",
              "AMD Ryzen 5 Hexa Core Processor            48\n",
              "AMD Ryzen 3 Dual Core Processor            42\n",
              "AMD Ryzen 5 Quad Core Processor            37\n",
              "                                           25\n",
              "Intel Celeron Dual Core Processor          20\n",
              "Intel Core i9 Processor                    10\n",
              "M1 Processor                                7\n",
              "M1 Pro Processor                            6\n",
              "M2 Processor                                5\n",
              "AMD Ryzen 3 Quad Core Processor             4\n",
              "Intel Pentium Quad Core Processor           3\n",
              "Intel Celeron Quad Core Processor           3\n",
              "Intel Pentium Silver Processor              2\n",
              "Intel Evo Core i5 Processor                 2\n",
              "AMD Athlon Dual Core Processor              2\n",
              "Intel OptaneIntel Core i3 Processor         2\n",
              "Qualcomm Snapdragon 7c Gen 2 Processor      1\n",
              "M1 Max Processor                            1\n",
              "AMD Ryzen 7 Quad Core Processor             1\n",
              "AMD Ryzen 5 Dual Core Processor             1\n",
              "AMD Dual Core Processor                     1\n",
              "AMD Ryzen 3 Hexa Core Processor             1\n",
              "Name: processor, dtype: int64"
            ]
          },
          "metadata": {},
          "execution_count": 163
        }
      ]
    },
    {
      "cell_type": "code",
      "source": [
        " dfml['RAM'].value_counts()"
      ],
      "metadata": {
        "colab": {
          "base_uri": "https://localhost:8080/"
        },
        "id": "NtsudSv2wP8-",
        "outputId": "e80d2f34-971d-4b12-ee1e-ddb32abf5554"
      },
      "execution_count": 164,
      "outputs": [
        {
          "output_type": "execute_result",
          "data": {
            "text/plain": [
              "8 GB                402\n",
              "16 GB               263\n",
              "4 GB                 37\n",
              "32 GB                17\n",
              "128 GB512 GB8 GB      1\n",
              "Name: RAM, dtype: int64"
            ]
          },
          "metadata": {},
          "execution_count": 164
        }
      ]
    },
    {
      "cell_type": "markdown",
      "source": [
        "128 GB512 GB8 GB deleting the row because no computer has 3 ram"
      ],
      "metadata": {
        "id": "wJCCE1RsIDOI"
      }
    },
    {
      "cell_type": "code",
      "source": [
        "dfml= dfml[(dfml['RAM'] != '128 GB512 GB8 GB')]\n",
        "dfml"
      ],
      "metadata": {
        "colab": {
          "base_uri": "https://localhost:8080/",
          "height": 424
        },
        "id": "Qw0Ovf4_x1rT",
        "outputId": "156ad785-18d9-41cc-f978-f74d05073ee1"
      },
      "execution_count": 165,
      "outputs": [
        {
          "output_type": "execute_result",
          "data": {
            "text/plain": [
              "        MRP                          processor    RAM  \\\n",
              "0     36990            Intel Core i3 Processor   8 GB   \n",
              "1     39990            Intel Core i3 Processor   8 GB   \n",
              "2     32990            Intel Core i3 Processor   8 GB   \n",
              "3     49990    AMD Ryzen 5 Hexa Core Processor   8 GB   \n",
              "4     49990            Intel Core i5 Processor   8 GB   \n",
              "..      ...                                ...    ...   \n",
              "715   23490  Intel Celeron Dual Core Processor   4 GB   \n",
              "716   73490    AMD Ryzen 7 Octa Core Processor   8 GB   \n",
              "717  194990    AMD Ryzen 9 Octa Core Processor  16 GB   \n",
              "718  125990            Intel Core i7 Processor  16 GB   \n",
              "719   50990            Intel Core i5 Processor   8 GB   \n",
              "\n",
              "                              os    RAM TYPE   Brand     ROM_SIZE ROM_TYPE  \n",
              "0    Windows 11 Operating System    DDR4 RAM  Lenovo       256 GB      SSD  \n",
              "1    Windows 11 Operating System    DDR4 RAM  Lenovo       512 GB      SSD  \n",
              "2    Windows 11 Operating System    DDR4 RAM    ASUS       512 GB      SSD  \n",
              "3    Windows 10 Operating System    DDR4 RAM      HP       512 GB      SSD  \n",
              "4    Windows 11 Operating System    DDR4 RAM    ASUS       512 GB      SSD  \n",
              "..                           ...         ...     ...          ...      ...  \n",
              "715      Chrome Operating System  LPDDR4 RAM    ASUS                        \n",
              "716  Windows 11 Operating System    DDR4 RAM  Lenovo       512 GB      SSD  \n",
              "717  Windows 11 Operating System    DDR5 RAM    ASUS         1 TB      SSD  \n",
              "718  Windows 11 Operating System  LPDDR5 RAM    ASUS       512 GB      SSD  \n",
              "719  Windows 10 Operating System    DDR4 RAM  Lenovo  1 TB,256 GB  HDD,SSD  \n",
              "\n",
              "[719 rows x 8 columns]"
            ],
            "text/html": [
              "\n",
              "  <div id=\"df-b7a36f6f-7ad9-408a-8eff-f08c26e0d2f3\">\n",
              "    <div class=\"colab-df-container\">\n",
              "      <div>\n",
              "<style scoped>\n",
              "    .dataframe tbody tr th:only-of-type {\n",
              "        vertical-align: middle;\n",
              "    }\n",
              "\n",
              "    .dataframe tbody tr th {\n",
              "        vertical-align: top;\n",
              "    }\n",
              "\n",
              "    .dataframe thead th {\n",
              "        text-align: right;\n",
              "    }\n",
              "</style>\n",
              "<table border=\"1\" class=\"dataframe\">\n",
              "  <thead>\n",
              "    <tr style=\"text-align: right;\">\n",
              "      <th></th>\n",
              "      <th>MRP</th>\n",
              "      <th>processor</th>\n",
              "      <th>RAM</th>\n",
              "      <th>os</th>\n",
              "      <th>RAM TYPE</th>\n",
              "      <th>Brand</th>\n",
              "      <th>ROM_SIZE</th>\n",
              "      <th>ROM_TYPE</th>\n",
              "    </tr>\n",
              "  </thead>\n",
              "  <tbody>\n",
              "    <tr>\n",
              "      <th>0</th>\n",
              "      <td>36990</td>\n",
              "      <td>Intel Core i3 Processor</td>\n",
              "      <td>8 GB</td>\n",
              "      <td>Windows 11 Operating System</td>\n",
              "      <td>DDR4 RAM</td>\n",
              "      <td>Lenovo</td>\n",
              "      <td>256 GB</td>\n",
              "      <td>SSD</td>\n",
              "    </tr>\n",
              "    <tr>\n",
              "      <th>1</th>\n",
              "      <td>39990</td>\n",
              "      <td>Intel Core i3 Processor</td>\n",
              "      <td>8 GB</td>\n",
              "      <td>Windows 11 Operating System</td>\n",
              "      <td>DDR4 RAM</td>\n",
              "      <td>Lenovo</td>\n",
              "      <td>512 GB</td>\n",
              "      <td>SSD</td>\n",
              "    </tr>\n",
              "    <tr>\n",
              "      <th>2</th>\n",
              "      <td>32990</td>\n",
              "      <td>Intel Core i3 Processor</td>\n",
              "      <td>8 GB</td>\n",
              "      <td>Windows 11 Operating System</td>\n",
              "      <td>DDR4 RAM</td>\n",
              "      <td>ASUS</td>\n",
              "      <td>512 GB</td>\n",
              "      <td>SSD</td>\n",
              "    </tr>\n",
              "    <tr>\n",
              "      <th>3</th>\n",
              "      <td>49990</td>\n",
              "      <td>AMD Ryzen 5 Hexa Core Processor</td>\n",
              "      <td>8 GB</td>\n",
              "      <td>Windows 10 Operating System</td>\n",
              "      <td>DDR4 RAM</td>\n",
              "      <td>HP</td>\n",
              "      <td>512 GB</td>\n",
              "      <td>SSD</td>\n",
              "    </tr>\n",
              "    <tr>\n",
              "      <th>4</th>\n",
              "      <td>49990</td>\n",
              "      <td>Intel Core i5 Processor</td>\n",
              "      <td>8 GB</td>\n",
              "      <td>Windows 11 Operating System</td>\n",
              "      <td>DDR4 RAM</td>\n",
              "      <td>ASUS</td>\n",
              "      <td>512 GB</td>\n",
              "      <td>SSD</td>\n",
              "    </tr>\n",
              "    <tr>\n",
              "      <th>...</th>\n",
              "      <td>...</td>\n",
              "      <td>...</td>\n",
              "      <td>...</td>\n",
              "      <td>...</td>\n",
              "      <td>...</td>\n",
              "      <td>...</td>\n",
              "      <td>...</td>\n",
              "      <td>...</td>\n",
              "    </tr>\n",
              "    <tr>\n",
              "      <th>715</th>\n",
              "      <td>23490</td>\n",
              "      <td>Intel Celeron Dual Core Processor</td>\n",
              "      <td>4 GB</td>\n",
              "      <td>Chrome Operating System</td>\n",
              "      <td>LPDDR4 RAM</td>\n",
              "      <td>ASUS</td>\n",
              "      <td></td>\n",
              "      <td></td>\n",
              "    </tr>\n",
              "    <tr>\n",
              "      <th>716</th>\n",
              "      <td>73490</td>\n",
              "      <td>AMD Ryzen 7 Octa Core Processor</td>\n",
              "      <td>8 GB</td>\n",
              "      <td>Windows 11 Operating System</td>\n",
              "      <td>DDR4 RAM</td>\n",
              "      <td>Lenovo</td>\n",
              "      <td>512 GB</td>\n",
              "      <td>SSD</td>\n",
              "    </tr>\n",
              "    <tr>\n",
              "      <th>717</th>\n",
              "      <td>194990</td>\n",
              "      <td>AMD Ryzen 9 Octa Core Processor</td>\n",
              "      <td>16 GB</td>\n",
              "      <td>Windows 11 Operating System</td>\n",
              "      <td>DDR5 RAM</td>\n",
              "      <td>ASUS</td>\n",
              "      <td>1 TB</td>\n",
              "      <td>SSD</td>\n",
              "    </tr>\n",
              "    <tr>\n",
              "      <th>718</th>\n",
              "      <td>125990</td>\n",
              "      <td>Intel Core i7 Processor</td>\n",
              "      <td>16 GB</td>\n",
              "      <td>Windows 11 Operating System</td>\n",
              "      <td>LPDDR5 RAM</td>\n",
              "      <td>ASUS</td>\n",
              "      <td>512 GB</td>\n",
              "      <td>SSD</td>\n",
              "    </tr>\n",
              "    <tr>\n",
              "      <th>719</th>\n",
              "      <td>50990</td>\n",
              "      <td>Intel Core i5 Processor</td>\n",
              "      <td>8 GB</td>\n",
              "      <td>Windows 10 Operating System</td>\n",
              "      <td>DDR4 RAM</td>\n",
              "      <td>Lenovo</td>\n",
              "      <td>1 TB,256 GB</td>\n",
              "      <td>HDD,SSD</td>\n",
              "    </tr>\n",
              "  </tbody>\n",
              "</table>\n",
              "<p>719 rows × 8 columns</p>\n",
              "</div>\n",
              "      <button class=\"colab-df-convert\" onclick=\"convertToInteractive('df-b7a36f6f-7ad9-408a-8eff-f08c26e0d2f3')\"\n",
              "              title=\"Convert this dataframe to an interactive table.\"\n",
              "              style=\"display:none;\">\n",
              "        \n",
              "  <svg xmlns=\"http://www.w3.org/2000/svg\" height=\"24px\"viewBox=\"0 0 24 24\"\n",
              "       width=\"24px\">\n",
              "    <path d=\"M0 0h24v24H0V0z\" fill=\"none\"/>\n",
              "    <path d=\"M18.56 5.44l.94 2.06.94-2.06 2.06-.94-2.06-.94-.94-2.06-.94 2.06-2.06.94zm-11 1L8.5 8.5l.94-2.06 2.06-.94-2.06-.94L8.5 2.5l-.94 2.06-2.06.94zm10 10l.94 2.06.94-2.06 2.06-.94-2.06-.94-.94-2.06-.94 2.06-2.06.94z\"/><path d=\"M17.41 7.96l-1.37-1.37c-.4-.4-.92-.59-1.43-.59-.52 0-1.04.2-1.43.59L10.3 9.45l-7.72 7.72c-.78.78-.78 2.05 0 2.83L4 21.41c.39.39.9.59 1.41.59.51 0 1.02-.2 1.41-.59l7.78-7.78 2.81-2.81c.8-.78.8-2.07 0-2.86zM5.41 20L4 18.59l7.72-7.72 1.47 1.35L5.41 20z\"/>\n",
              "  </svg>\n",
              "      </button>\n",
              "      \n",
              "  <style>\n",
              "    .colab-df-container {\n",
              "      display:flex;\n",
              "      flex-wrap:wrap;\n",
              "      gap: 12px;\n",
              "    }\n",
              "\n",
              "    .colab-df-convert {\n",
              "      background-color: #E8F0FE;\n",
              "      border: none;\n",
              "      border-radius: 50%;\n",
              "      cursor: pointer;\n",
              "      display: none;\n",
              "      fill: #1967D2;\n",
              "      height: 32px;\n",
              "      padding: 0 0 0 0;\n",
              "      width: 32px;\n",
              "    }\n",
              "\n",
              "    .colab-df-convert:hover {\n",
              "      background-color: #E2EBFA;\n",
              "      box-shadow: 0px 1px 2px rgba(60, 64, 67, 0.3), 0px 1px 3px 1px rgba(60, 64, 67, 0.15);\n",
              "      fill: #174EA6;\n",
              "    }\n",
              "\n",
              "    [theme=dark] .colab-df-convert {\n",
              "      background-color: #3B4455;\n",
              "      fill: #D2E3FC;\n",
              "    }\n",
              "\n",
              "    [theme=dark] .colab-df-convert:hover {\n",
              "      background-color: #434B5C;\n",
              "      box-shadow: 0px 1px 3px 1px rgba(0, 0, 0, 0.15);\n",
              "      filter: drop-shadow(0px 1px 2px rgba(0, 0, 0, 0.3));\n",
              "      fill: #FFFFFF;\n",
              "    }\n",
              "  </style>\n",
              "\n",
              "      <script>\n",
              "        const buttonEl =\n",
              "          document.querySelector('#df-b7a36f6f-7ad9-408a-8eff-f08c26e0d2f3 button.colab-df-convert');\n",
              "        buttonEl.style.display =\n",
              "          google.colab.kernel.accessAllowed ? 'block' : 'none';\n",
              "\n",
              "        async function convertToInteractive(key) {\n",
              "          const element = document.querySelector('#df-b7a36f6f-7ad9-408a-8eff-f08c26e0d2f3');\n",
              "          const dataTable =\n",
              "            await google.colab.kernel.invokeFunction('convertToInteractive',\n",
              "                                                     [key], {});\n",
              "          if (!dataTable) return;\n",
              "\n",
              "          const docLinkHtml = 'Like what you see? Visit the ' +\n",
              "            '<a target=\"_blank\" href=https://colab.research.google.com/notebooks/data_table.ipynb>data table notebook</a>'\n",
              "            + ' to learn more about interactive tables.';\n",
              "          element.innerHTML = '';\n",
              "          dataTable['output_type'] = 'display_data';\n",
              "          await google.colab.output.renderOutput(dataTable, element);\n",
              "          const docLink = document.createElement('div');\n",
              "          docLink.innerHTML = docLinkHtml;\n",
              "          element.appendChild(docLink);\n",
              "        }\n",
              "      </script>\n",
              "    </div>\n",
              "  </div>\n",
              "  "
            ]
          },
          "metadata": {},
          "execution_count": 165
        }
      ]
    },
    {
      "cell_type": "code",
      "source": [
        " dfml['RAM'].value_counts()"
      ],
      "metadata": {
        "colab": {
          "base_uri": "https://localhost:8080/"
        },
        "id": "3fQ9R5PiyM9Z",
        "outputId": "a84edea9-a4bb-4dbc-9d24-968c424d3aa5"
      },
      "execution_count": 166,
      "outputs": [
        {
          "output_type": "execute_result",
          "data": {
            "text/plain": [
              "8 GB     402\n",
              "16 GB    263\n",
              "4 GB      37\n",
              "32 GB     17\n",
              "Name: RAM, dtype: int64"
            ]
          },
          "metadata": {},
          "execution_count": 166
        }
      ]
    },
    {
      "cell_type": "code",
      "source": [
        " dfml['os'].value_counts()"
      ],
      "metadata": {
        "colab": {
          "base_uri": "https://localhost:8080/"
        },
        "id": "dlycw1onyVU3",
        "outputId": "0d99b1cf-36b7-4ec0-d115-38ee3485780d"
      },
      "execution_count": 167,
      "outputs": [
        {
          "output_type": "execute_result",
          "data": {
            "text/plain": [
              "Windows 11 Operating System                                                                                560\n",
              "Windows 10 Operating System                                                                                127\n",
              "Mac OS Operating System                                                                                     19\n",
              "Chrome Operating System                                                                                      7\n",
              "DOS Operating System                                                                                         4\n",
              "Windows 11 when availableAMD Ryzen 5 Hexa Core Processor8 GB DDR4 RAM64 bit Windows 11 Operating System      1\n",
              "Windows 11 when availableAMD Ryzen 5 Hexa Core Processor8 GB DDR4 RAM64 bit Windows 10 Operating System      1\n",
              "Name: os, dtype: int64"
            ]
          },
          "metadata": {},
          "execution_count": 167
        }
      ]
    },
    {
      "cell_type": "markdown",
      "source": [
        "replacing all the values to windows 11 or 10 as per provided info"
      ],
      "metadata": {
        "id": "Ck-dp1kBITdc"
      }
    },
    {
      "cell_type": "code",
      "source": [
        "dfml.replace(\"Windows 11 when availableAMD Ryzen 5 Hexa Core Processor8 GB DDR4 RAM64 bit Windows 11 Operating System\", \"Windows 11 Operating System\", inplace=True)\n",
        "dfml.replace(\"Windows 11 when availableAMD Ryzen 5 Hexa Core Processor8 GB DDR4 RAM64 bit Windows 10 Operating System\", \"Windows 10 Operating System\", inplace=True)"
      ],
      "metadata": {
        "id": "1q2zlTyHyhQA"
      },
      "execution_count": 168,
      "outputs": []
    },
    {
      "cell_type": "code",
      "source": [
        " dfml['RAM TYPE'].value_counts()"
      ],
      "metadata": {
        "colab": {
          "base_uri": "https://localhost:8080/"
        },
        "id": "lBbtQBAi06jk",
        "outputId": "c55342bd-dd89-4e02-9d4d-a9a639b12f63"
      },
      "execution_count": 169,
      "outputs": [
        {
          "output_type": "execute_result",
          "data": {
            "text/plain": [
              "DDR4 RAM              560\n",
              "DDR5 RAM               92\n",
              "LPDDR4X RAM            37\n",
              "Unified Memory RAM     12\n",
              "LPDDR5 RAM              9\n",
              "LPDDR4 RAM              8\n",
              "LPDDR3 RAM              1\n",
              "Name: RAM TYPE, dtype: int64"
            ]
          },
          "metadata": {},
          "execution_count": 169
        }
      ]
    },
    {
      "cell_type": "markdown",
      "source": [
        "deleting null values in Ram_type"
      ],
      "metadata": {
        "id": "37z9oxODIiz7"
      }
    },
    {
      "cell_type": "code",
      "source": [
        "dfml = dfml.loc[dfml[\"ROM_TYPE\"] >= \" \" ]\n",
        "dfml"
      ],
      "metadata": {
        "colab": {
          "base_uri": "https://localhost:8080/",
          "height": 424
        },
        "id": "pdgiS6tFEimV",
        "outputId": "65cdbb27-86a4-447a-8bfb-f020cbc9a568"
      },
      "execution_count": 170,
      "outputs": [
        {
          "output_type": "execute_result",
          "data": {
            "text/plain": [
              "        MRP                        processor    RAM  \\\n",
              "0     36990          Intel Core i3 Processor   8 GB   \n",
              "1     39990          Intel Core i3 Processor   8 GB   \n",
              "2     32990          Intel Core i3 Processor   8 GB   \n",
              "3     49990  AMD Ryzen 5 Hexa Core Processor   8 GB   \n",
              "4     49990          Intel Core i5 Processor   8 GB   \n",
              "..      ...                              ...    ...   \n",
              "714   90000  AMD Ryzen 7 Octa Core Processor  16 GB   \n",
              "716   73490  AMD Ryzen 7 Octa Core Processor   8 GB   \n",
              "717  194990  AMD Ryzen 9 Octa Core Processor  16 GB   \n",
              "718  125990          Intel Core i7 Processor  16 GB   \n",
              "719   50990          Intel Core i5 Processor   8 GB   \n",
              "\n",
              "                              os    RAM TYPE   Brand     ROM_SIZE ROM_TYPE  \n",
              "0    Windows 11 Operating System    DDR4 RAM  Lenovo       256 GB      SSD  \n",
              "1    Windows 11 Operating System    DDR4 RAM  Lenovo       512 GB      SSD  \n",
              "2    Windows 11 Operating System    DDR4 RAM    ASUS       512 GB      SSD  \n",
              "3    Windows 10 Operating System    DDR4 RAM      HP       512 GB      SSD  \n",
              "4    Windows 11 Operating System    DDR4 RAM    ASUS       512 GB      SSD  \n",
              "..                           ...         ...     ...          ...      ...  \n",
              "714  Windows 10 Operating System    DDR4 RAM      HP       512 GB      SSD  \n",
              "716  Windows 11 Operating System    DDR4 RAM  Lenovo       512 GB      SSD  \n",
              "717  Windows 11 Operating System    DDR5 RAM    ASUS         1 TB      SSD  \n",
              "718  Windows 11 Operating System  LPDDR5 RAM    ASUS       512 GB      SSD  \n",
              "719  Windows 10 Operating System    DDR4 RAM  Lenovo  1 TB,256 GB  HDD,SSD  \n",
              "\n",
              "[709 rows x 8 columns]"
            ],
            "text/html": [
              "\n",
              "  <div id=\"df-54f6e93d-83d0-4efe-a359-d0490bca4648\">\n",
              "    <div class=\"colab-df-container\">\n",
              "      <div>\n",
              "<style scoped>\n",
              "    .dataframe tbody tr th:only-of-type {\n",
              "        vertical-align: middle;\n",
              "    }\n",
              "\n",
              "    .dataframe tbody tr th {\n",
              "        vertical-align: top;\n",
              "    }\n",
              "\n",
              "    .dataframe thead th {\n",
              "        text-align: right;\n",
              "    }\n",
              "</style>\n",
              "<table border=\"1\" class=\"dataframe\">\n",
              "  <thead>\n",
              "    <tr style=\"text-align: right;\">\n",
              "      <th></th>\n",
              "      <th>MRP</th>\n",
              "      <th>processor</th>\n",
              "      <th>RAM</th>\n",
              "      <th>os</th>\n",
              "      <th>RAM TYPE</th>\n",
              "      <th>Brand</th>\n",
              "      <th>ROM_SIZE</th>\n",
              "      <th>ROM_TYPE</th>\n",
              "    </tr>\n",
              "  </thead>\n",
              "  <tbody>\n",
              "    <tr>\n",
              "      <th>0</th>\n",
              "      <td>36990</td>\n",
              "      <td>Intel Core i3 Processor</td>\n",
              "      <td>8 GB</td>\n",
              "      <td>Windows 11 Operating System</td>\n",
              "      <td>DDR4 RAM</td>\n",
              "      <td>Lenovo</td>\n",
              "      <td>256 GB</td>\n",
              "      <td>SSD</td>\n",
              "    </tr>\n",
              "    <tr>\n",
              "      <th>1</th>\n",
              "      <td>39990</td>\n",
              "      <td>Intel Core i3 Processor</td>\n",
              "      <td>8 GB</td>\n",
              "      <td>Windows 11 Operating System</td>\n",
              "      <td>DDR4 RAM</td>\n",
              "      <td>Lenovo</td>\n",
              "      <td>512 GB</td>\n",
              "      <td>SSD</td>\n",
              "    </tr>\n",
              "    <tr>\n",
              "      <th>2</th>\n",
              "      <td>32990</td>\n",
              "      <td>Intel Core i3 Processor</td>\n",
              "      <td>8 GB</td>\n",
              "      <td>Windows 11 Operating System</td>\n",
              "      <td>DDR4 RAM</td>\n",
              "      <td>ASUS</td>\n",
              "      <td>512 GB</td>\n",
              "      <td>SSD</td>\n",
              "    </tr>\n",
              "    <tr>\n",
              "      <th>3</th>\n",
              "      <td>49990</td>\n",
              "      <td>AMD Ryzen 5 Hexa Core Processor</td>\n",
              "      <td>8 GB</td>\n",
              "      <td>Windows 10 Operating System</td>\n",
              "      <td>DDR4 RAM</td>\n",
              "      <td>HP</td>\n",
              "      <td>512 GB</td>\n",
              "      <td>SSD</td>\n",
              "    </tr>\n",
              "    <tr>\n",
              "      <th>4</th>\n",
              "      <td>49990</td>\n",
              "      <td>Intel Core i5 Processor</td>\n",
              "      <td>8 GB</td>\n",
              "      <td>Windows 11 Operating System</td>\n",
              "      <td>DDR4 RAM</td>\n",
              "      <td>ASUS</td>\n",
              "      <td>512 GB</td>\n",
              "      <td>SSD</td>\n",
              "    </tr>\n",
              "    <tr>\n",
              "      <th>...</th>\n",
              "      <td>...</td>\n",
              "      <td>...</td>\n",
              "      <td>...</td>\n",
              "      <td>...</td>\n",
              "      <td>...</td>\n",
              "      <td>...</td>\n",
              "      <td>...</td>\n",
              "      <td>...</td>\n",
              "    </tr>\n",
              "    <tr>\n",
              "      <th>714</th>\n",
              "      <td>90000</td>\n",
              "      <td>AMD Ryzen 7 Octa Core Processor</td>\n",
              "      <td>16 GB</td>\n",
              "      <td>Windows 10 Operating System</td>\n",
              "      <td>DDR4 RAM</td>\n",
              "      <td>HP</td>\n",
              "      <td>512 GB</td>\n",
              "      <td>SSD</td>\n",
              "    </tr>\n",
              "    <tr>\n",
              "      <th>716</th>\n",
              "      <td>73490</td>\n",
              "      <td>AMD Ryzen 7 Octa Core Processor</td>\n",
              "      <td>8 GB</td>\n",
              "      <td>Windows 11 Operating System</td>\n",
              "      <td>DDR4 RAM</td>\n",
              "      <td>Lenovo</td>\n",
              "      <td>512 GB</td>\n",
              "      <td>SSD</td>\n",
              "    </tr>\n",
              "    <tr>\n",
              "      <th>717</th>\n",
              "      <td>194990</td>\n",
              "      <td>AMD Ryzen 9 Octa Core Processor</td>\n",
              "      <td>16 GB</td>\n",
              "      <td>Windows 11 Operating System</td>\n",
              "      <td>DDR5 RAM</td>\n",
              "      <td>ASUS</td>\n",
              "      <td>1 TB</td>\n",
              "      <td>SSD</td>\n",
              "    </tr>\n",
              "    <tr>\n",
              "      <th>718</th>\n",
              "      <td>125990</td>\n",
              "      <td>Intel Core i7 Processor</td>\n",
              "      <td>16 GB</td>\n",
              "      <td>Windows 11 Operating System</td>\n",
              "      <td>LPDDR5 RAM</td>\n",
              "      <td>ASUS</td>\n",
              "      <td>512 GB</td>\n",
              "      <td>SSD</td>\n",
              "    </tr>\n",
              "    <tr>\n",
              "      <th>719</th>\n",
              "      <td>50990</td>\n",
              "      <td>Intel Core i5 Processor</td>\n",
              "      <td>8 GB</td>\n",
              "      <td>Windows 10 Operating System</td>\n",
              "      <td>DDR4 RAM</td>\n",
              "      <td>Lenovo</td>\n",
              "      <td>1 TB,256 GB</td>\n",
              "      <td>HDD,SSD</td>\n",
              "    </tr>\n",
              "  </tbody>\n",
              "</table>\n",
              "<p>709 rows × 8 columns</p>\n",
              "</div>\n",
              "      <button class=\"colab-df-convert\" onclick=\"convertToInteractive('df-54f6e93d-83d0-4efe-a359-d0490bca4648')\"\n",
              "              title=\"Convert this dataframe to an interactive table.\"\n",
              "              style=\"display:none;\">\n",
              "        \n",
              "  <svg xmlns=\"http://www.w3.org/2000/svg\" height=\"24px\"viewBox=\"0 0 24 24\"\n",
              "       width=\"24px\">\n",
              "    <path d=\"M0 0h24v24H0V0z\" fill=\"none\"/>\n",
              "    <path d=\"M18.56 5.44l.94 2.06.94-2.06 2.06-.94-2.06-.94-.94-2.06-.94 2.06-2.06.94zm-11 1L8.5 8.5l.94-2.06 2.06-.94-2.06-.94L8.5 2.5l-.94 2.06-2.06.94zm10 10l.94 2.06.94-2.06 2.06-.94-2.06-.94-.94-2.06-.94 2.06-2.06.94z\"/><path d=\"M17.41 7.96l-1.37-1.37c-.4-.4-.92-.59-1.43-.59-.52 0-1.04.2-1.43.59L10.3 9.45l-7.72 7.72c-.78.78-.78 2.05 0 2.83L4 21.41c.39.39.9.59 1.41.59.51 0 1.02-.2 1.41-.59l7.78-7.78 2.81-2.81c.8-.78.8-2.07 0-2.86zM5.41 20L4 18.59l7.72-7.72 1.47 1.35L5.41 20z\"/>\n",
              "  </svg>\n",
              "      </button>\n",
              "      \n",
              "  <style>\n",
              "    .colab-df-container {\n",
              "      display:flex;\n",
              "      flex-wrap:wrap;\n",
              "      gap: 12px;\n",
              "    }\n",
              "\n",
              "    .colab-df-convert {\n",
              "      background-color: #E8F0FE;\n",
              "      border: none;\n",
              "      border-radius: 50%;\n",
              "      cursor: pointer;\n",
              "      display: none;\n",
              "      fill: #1967D2;\n",
              "      height: 32px;\n",
              "      padding: 0 0 0 0;\n",
              "      width: 32px;\n",
              "    }\n",
              "\n",
              "    .colab-df-convert:hover {\n",
              "      background-color: #E2EBFA;\n",
              "      box-shadow: 0px 1px 2px rgba(60, 64, 67, 0.3), 0px 1px 3px 1px rgba(60, 64, 67, 0.15);\n",
              "      fill: #174EA6;\n",
              "    }\n",
              "\n",
              "    [theme=dark] .colab-df-convert {\n",
              "      background-color: #3B4455;\n",
              "      fill: #D2E3FC;\n",
              "    }\n",
              "\n",
              "    [theme=dark] .colab-df-convert:hover {\n",
              "      background-color: #434B5C;\n",
              "      box-shadow: 0px 1px 3px 1px rgba(0, 0, 0, 0.15);\n",
              "      filter: drop-shadow(0px 1px 2px rgba(0, 0, 0, 0.3));\n",
              "      fill: #FFFFFF;\n",
              "    }\n",
              "  </style>\n",
              "\n",
              "      <script>\n",
              "        const buttonEl =\n",
              "          document.querySelector('#df-54f6e93d-83d0-4efe-a359-d0490bca4648 button.colab-df-convert');\n",
              "        buttonEl.style.display =\n",
              "          google.colab.kernel.accessAllowed ? 'block' : 'none';\n",
              "\n",
              "        async function convertToInteractive(key) {\n",
              "          const element = document.querySelector('#df-54f6e93d-83d0-4efe-a359-d0490bca4648');\n",
              "          const dataTable =\n",
              "            await google.colab.kernel.invokeFunction('convertToInteractive',\n",
              "                                                     [key], {});\n",
              "          if (!dataTable) return;\n",
              "\n",
              "          const docLinkHtml = 'Like what you see? Visit the ' +\n",
              "            '<a target=\"_blank\" href=https://colab.research.google.com/notebooks/data_table.ipynb>data table notebook</a>'\n",
              "            + ' to learn more about interactive tables.';\n",
              "          element.innerHTML = '';\n",
              "          dataTable['output_type'] = 'display_data';\n",
              "          await google.colab.output.renderOutput(dataTable, element);\n",
              "          const docLink = document.createElement('div');\n",
              "          docLink.innerHTML = docLinkHtml;\n",
              "          element.appendChild(docLink);\n",
              "        }\n",
              "      </script>\n",
              "    </div>\n",
              "  </div>\n",
              "  "
            ]
          },
          "metadata": {},
          "execution_count": 170
        }
      ]
    },
    {
      "cell_type": "code",
      "source": [
        "dfml['ROM_TYPE'].value_counts()"
      ],
      "metadata": {
        "colab": {
          "base_uri": "https://localhost:8080/"
        },
        "id": "-imt-6vOD6NL",
        "outputId": "0703bcab-ab3d-4011-a748-2e47d5d715c2"
      },
      "execution_count": 171,
      "outputs": [
        {
          "output_type": "execute_result",
          "data": {
            "text/plain": [
              "SSD            662\n",
              "HDD,SSD         29\n",
              "HDD             17\n",
              "SSD,HDD,SSD      1\n",
              "Name: ROM_TYPE, dtype: int64"
            ]
          },
          "metadata": {},
          "execution_count": 171
        }
      ]
    },
    {
      "cell_type": "code",
      "source": [
        "dfml = dfml[(dfml['ROM_TYPE']!= 'SSD,HDD,SSD') ]"
      ],
      "metadata": {
        "id": "q5acQeVrhMrK"
      },
      "execution_count": 172,
      "outputs": []
    },
    {
      "cell_type": "code",
      "source": [
        "dfml['ROM_SIZE'].value_counts()"
      ],
      "metadata": {
        "colab": {
          "base_uri": "https://localhost:8080/"
        },
        "id": "YosrMXPqEBM0",
        "outputId": "ed9b16c4-6190-4fb3-8174-6a69fe7c57c3"
      },
      "execution_count": 173,
      "outputs": [
        {
          "output_type": "execute_result",
          "data": {
            "text/plain": [
              "512 GB           375\n",
              "1 TB             193\n",
              "256 GB            98\n",
              "1 TB,256 GB       26\n",
              "2 TB               7\n",
              "128 GB             6\n",
              "1 TB,512 GB        2\n",
              "256 GB,256 GB      1\n",
              "Name: ROM_SIZE, dtype: int64"
            ]
          },
          "metadata": {},
          "execution_count": 173
        }
      ]
    },
    {
      "cell_type": "code",
      "source": [
        "dfml = dfml[(dfml['ROM_SIZE']!= '256 GB,256 GB') ]"
      ],
      "metadata": {
        "id": "ZqeHW3lBhojs"
      },
      "execution_count": 174,
      "outputs": []
    },
    {
      "cell_type": "code",
      "source": [
        "dfml['Brand'].value_counts()"
      ],
      "metadata": {
        "colab": {
          "base_uri": "https://localhost:8080/"
        },
        "id": "QvTUitPhEIjD",
        "outputId": "6b873005-e5d9-44e3-df47-d458fc835d48"
      },
      "execution_count": 175,
      "outputs": [
        {
          "output_type": "execute_result",
          "data": {
            "text/plain": [
              "ASUS         245\n",
              "Lenovo       192\n",
              "HP            61\n",
              "DELL          61\n",
              "acer          33\n",
              "RedmiBook     31\n",
              "MSI           30\n",
              "Infinix       20\n",
              "APPLE         19\n",
              "realme         6\n",
              "ALIENWARE      3\n",
              "Ultimus        2\n",
              "SAMSUNG        1\n",
              "Vaio           1\n",
              "GIGABYTE       1\n",
              "Nokia          1\n",
              "Name: Brand, dtype: int64"
            ]
          },
          "metadata": {},
          "execution_count": 175
        }
      ]
    },
    {
      "cell_type": "markdown",
      "source": [
        "uni variate analysis cateorigical catagory"
      ],
      "metadata": {
        "id": "eK5vw9Z8Iph8"
      }
    },
    {
      "cell_type": "code",
      "source": [
        "num_df = dfml.select_dtypes(include=['object'])\n",
        "num_df.columns"
      ],
      "metadata": {
        "colab": {
          "base_uri": "https://localhost:8080/"
        },
        "id": "NoaVHOr1EcO7",
        "outputId": "e46da2b8-1290-476b-ff10-a0b71a2e4cd4"
      },
      "execution_count": 176,
      "outputs": [
        {
          "output_type": "execute_result",
          "data": {
            "text/plain": [
              "Index(['processor', 'RAM', 'os', 'RAM TYPE', 'Brand', 'ROM_SIZE', 'ROM_TYPE'], dtype='object')"
            ]
          },
          "metadata": {},
          "execution_count": 176
        }
      ]
    },
    {
      "cell_type": "code",
      "source": [
        "num_df['RAM TYPE'].value_counts().plot(kind='barh')"
      ],
      "metadata": {
        "colab": {
          "base_uri": "https://localhost:8080/",
          "height": 447
        },
        "id": "HkI9oisa6-Tv",
        "outputId": "3a6fbcba-df10-4021-ce86-ea89881952d0"
      },
      "execution_count": 177,
      "outputs": [
        {
          "output_type": "execute_result",
          "data": {
            "text/plain": [
              "<Axes: >"
            ]
          },
          "metadata": {},
          "execution_count": 177
        },
        {
          "output_type": "display_data",
          "data": {
            "text/plain": [
              "<Figure size 640x480 with 1 Axes>"
            ],
            "image/png": "[encoded data removed]"
          },
          "metadata": {}
        }
      ]
    },
    {
      "cell_type": "code",
      "source": [
        "num_df['processor'].value_counts().plot(kind='barh')"
      ],
      "metadata": {
        "colab": {
          "base_uri": "https://localhost:8080/",
          "height": 447
        },
        "id": "jX9AWhKILt1E",
        "outputId": "800e7fd8-3adb-481d-ff16-47be292c6872"
      },
      "execution_count": 178,
      "outputs": [
        {
          "output_type": "execute_result",
          "data": {
            "text/plain": [
              "<Axes: >"
            ]
          },
          "metadata": {},
          "execution_count": 178
        },
        {
          "output_type": "display_data",
          "data": {
            "text/plain": [
              "<Figure size 640x480 with 1 Axes>"
            ],
            "image/png": "[encoded data removed]"
          },
          "metadata": {}
        }
      ]
    },
    {
      "cell_type": "code",
      "source": [
        "num_df['RAM'].value_counts().plot(kind='barh')"
      ],
      "metadata": {
        "colab": {
          "base_uri": "https://localhost:8080/",
          "height": 447
        },
        "id": "DtRpFsWFLy5-",
        "outputId": "977a136d-3a63-47ba-dd26-ce239d19f98a"
      },
      "execution_count": 179,
      "outputs": [
        {
          "output_type": "execute_result",
          "data": {
            "text/plain": [
              "<Axes: >"
            ]
          },
          "metadata": {},
          "execution_count": 179
        },
        {
          "output_type": "display_data",
          "data": {
            "text/plain": [
              "<Figure size 640x480 with 1 Axes>"
            ],
            "image/png": "[encoded data removed]"
          },
          "metadata": {}
        }
      ]
    },
    {
      "cell_type": "code",
      "source": [
        "num_df['os'].value_counts().plot(kind='barh')"
      ],
      "metadata": {
        "colab": {
          "base_uri": "https://localhost:8080/",
          "height": 447
        },
        "id": "GwMR0YSEL1T9",
        "outputId": "f98337a0-75b7-49fb-f967-a9528c292aa3"
      },
      "execution_count": 180,
      "outputs": [
        {
          "output_type": "execute_result",
          "data": {
            "text/plain": [
              "<Axes: >"
            ]
          },
          "metadata": {},
          "execution_count": 180
        },
        {
          "output_type": "display_data",
          "data": {
            "text/plain": [
              "<Figure size 640x480 with 1 Axes>"
            ],
            "image/png": "[encoded data removed]"
          },
          "metadata": {}
        }
      ]
    },
    {
      "cell_type": "code",
      "source": [
        "num_df['Brand'].value_counts().plot(kind='barh')"
      ],
      "metadata": {
        "colab": {
          "base_uri": "https://localhost:8080/",
          "height": 447
        },
        "id": "hKVXBE1wL10j",
        "outputId": "714012ab-a004-4863-fa37-2b956f08a0a9"
      },
      "execution_count": 181,
      "outputs": [
        {
          "output_type": "execute_result",
          "data": {
            "text/plain": [
              "<Axes: >"
            ]
          },
          "metadata": {},
          "execution_count": 181
        },
        {
          "output_type": "display_data",
          "data": {
            "text/plain": [
              "<Figure size 640x480 with 1 Axes>"
            ],
            "image/png": "[encoded data removed]"
          },
          "metadata": {}
        }
      ]
    },
    {
      "cell_type": "code",
      "source": [
        "num_df['ROM_SIZE'].value_counts().plot(kind='barh')"
      ],
      "metadata": {
        "colab": {
          "base_uri": "https://localhost:8080/",
          "height": 447
        },
        "id": "zm8vPm1HL2Wn",
        "outputId": "b715cfc3-eb2e-46c6-90ad-1e22b3a0c084"
      },
      "execution_count": 182,
      "outputs": [
        {
          "output_type": "execute_result",
          "data": {
            "text/plain": [
              "<Axes: >"
            ]
          },
          "metadata": {},
          "execution_count": 182
        },
        {
          "output_type": "display_data",
          "data": {
            "text/plain": [
              "<Figure size 640x480 with 1 Axes>"
            ],
            "image/png": "[encoded data removed]"
          },
          "metadata": {}
        }
      ]
    },
    {
      "cell_type": "code",
      "source": [
        "num_df['ROM_TYPE'].value_counts().plot(kind='barh')"
      ],
      "metadata": {
        "colab": {
          "base_uri": "https://localhost:8080/",
          "height": 447
        },
        "id": "O8JSLbHoL9Ke",
        "outputId": "e1506c5f-a359-4c1a-88c8-a2fccc7a6e4b"
      },
      "execution_count": 183,
      "outputs": [
        {
          "output_type": "execute_result",
          "data": {
            "text/plain": [
              "<Axes: >"
            ]
          },
          "metadata": {},
          "execution_count": 183
        },
        {
          "output_type": "display_data",
          "data": {
            "text/plain": [
              "<Figure size 640x480 with 1 Axes>"
            ],
            "image/png": "[encoded data removed]"
          },
          "metadata": {}
        }
      ]
    },
    {
      "cell_type": "code",
      "source": [
        "dfml.columns"
      ],
      "metadata": {
        "colab": {
          "base_uri": "https://localhost:8080/"
        },
        "id": "YVVa0MzlMV0x",
        "outputId": "c44b3b3f-e77a-48a3-f77e-dcfe9b423c6f"
      },
      "execution_count": 184,
      "outputs": [
        {
          "output_type": "execute_result",
          "data": {
            "text/plain": [
              "Index(['MRP', 'processor', 'RAM', 'os', 'RAM TYPE', 'Brand', 'ROM_SIZE',\n",
              "       'ROM_TYPE'],\n",
              "      dtype='object')"
            ]
          },
          "metadata": {},
          "execution_count": 184
        }
      ]
    },
    {
      "cell_type": "markdown",
      "source": [
        "bivariate analysis"
      ],
      "metadata": {
        "id": "uiFH30fQMPuS"
      }
    },
    {
      "cell_type": "markdown",
      "source": [
        "numerical analysis"
      ],
      "metadata": {
        "id": "N-hLrp1FM6dQ"
      }
    },
    {
      "cell_type": "code",
      "source": [
        "dfml['MRP'].plot(kind='box')"
      ],
      "metadata": {
        "colab": {
          "base_uri": "https://localhost:8080/",
          "height": 447
        },
        "id": "sPVOmEhsM2M-",
        "outputId": "2d7e3e25-7dd3-4279-f081-aca1fcd3f9ab"
      },
      "execution_count": 185,
      "outputs": [
        {
          "output_type": "execute_result",
          "data": {
            "text/plain": [
              "<Axes: >"
            ]
          },
          "metadata": {},
          "execution_count": 185
        },
        {
          "output_type": "display_data",
          "data": {
            "text/plain": [
              "<Figure size 640x480 with 1 Axes>"
            ],
            "image/png": "[encoded data removed]"
          },
          "metadata": {}
        }
      ]
    },
    {
      "cell_type": "code",
      "source": [
        "dfml['MRP'].plot(kind='kde')"
      ],
      "metadata": {
        "colab": {
          "base_uri": "https://localhost:8080/",
          "height": 462
        },
        "id": "xCs0weCZNcwO",
        "outputId": "0b901d6e-7c0c-4375-a507-ad7e9042b073"
      },
      "execution_count": 186,
      "outputs": [
        {
          "output_type": "execute_result",
          "data": {
            "text/plain": [
              "<Axes: ylabel='Density'>"
            ]
          },
          "metadata": {},
          "execution_count": 186
        },
        {
          "output_type": "display_data",
          "data": {
            "text/plain": [
              "<Figure size 640x480 with 1 Axes>"
            ],
            "image/png": "[encoded data removed]"
          },
          "metadata": {}
        }
      ]
    },
    {
      "cell_type": "code",
      "source": [
        "q1 = dfml['MRP'].quantile(0.25)\n",
        "q3 = dfml['MRP'].quantile(0.75)\n",
        "\n",
        "IQR = q3 - q1\n",
        "\n",
        "income_lower_bound = q1 - 1.5 * IQR\n",
        "income_upper_bound = q3 + 1.5 * IQR\n",
        "\n",
        "clean_df = dfml[(dfml['MRP'] >= income_lower_bound) & (dfml['MRP'] <= income_upper_bound)]\n",
        "\n",
        "clean_df['MRP'].plot(kind='box')"
      ],
      "metadata": {
        "colab": {
          "base_uri": "https://localhost:8080/",
          "height": 447
        },
        "id": "9Hk6Ws95N6Oi",
        "outputId": "a1cc75b8-7265-47c3-fffa-5efdd4dad555"
      },
      "execution_count": 187,
      "outputs": [
        {
          "output_type": "execute_result",
          "data": {
            "text/plain": [
              "<Axes: >"
            ]
          },
          "metadata": {},
          "execution_count": 187
        },
        {
          "output_type": "display_data",
          "data": {
            "text/plain": [
              "<Figure size 640x480 with 1 Axes>"
            ],
            "image/png": "[encoded data removed]"
          },
          "metadata": {}
        }
      ]
    },
    {
      "cell_type": "code",
      "source": [
        "clean_df = clean_df[clean_df['MRP'] < 117000]\n",
        "\n",
        "clean_df['MRP'].plot(kind='box')"
      ],
      "metadata": {
        "colab": {
          "base_uri": "https://localhost:8080/",
          "height": 447
        },
        "id": "zqmOH_TjTvX4",
        "outputId": "537fa096-a4cc-41b4-ea3c-a2da3965fb52"
      },
      "execution_count": 188,
      "outputs": [
        {
          "output_type": "execute_result",
          "data": {
            "text/plain": [
              "<Axes: >"
            ]
          },
          "metadata": {},
          "execution_count": 188
        },
        {
          "output_type": "display_data",
          "data": {
            "text/plain": [
              "<Figure size 640x480 with 1 Axes>"
            ],
            "image/png": "[encoded data removed]"
          },
          "metadata": {}
        }
      ]
    },
    {
      "cell_type": "code",
      "source": [
        "clean_df.boxplot(by='RAM', column='MRP', figsize=(25, 8))"
      ],
      "metadata": {
        "colab": {
          "base_uri": "https://localhost:8080/",
          "height": 662
        },
        "id": "eoRKntDVMSic",
        "outputId": "83ecb5b9-f0d1-410b-e6aa-7f0ecde0b8b8"
      },
      "execution_count": 189,
      "outputs": [
        {
          "output_type": "execute_result",
          "data": {
            "text/plain": [
              "<Axes: title={'center': 'MRP'}, xlabel='RAM'>"
            ]
          },
          "metadata": {},
          "execution_count": 189
        },
        {
          "output_type": "display_data",
          "data": {
            "text/plain": [
              "<Figure size 2500x800 with 1 Axes>"
            ],
            "image/png": "[encoded data removed]"
          },
          "metadata": {}
        }
      ]
    },
    {
      "cell_type": "code",
      "source": [
        "clean_df.boxplot(by='RAM TYPE', column='MRP', figsize=(25, 8))"
      ],
      "metadata": {
        "colab": {
          "base_uri": "https://localhost:8080/",
          "height": 662
        },
        "id": "4-TO-EdDXaCN",
        "outputId": "99fbcc43-20b8-4bb5-c45b-91ee21322df8"
      },
      "execution_count": 190,
      "outputs": [
        {
          "output_type": "execute_result",
          "data": {
            "text/plain": [
              "<Axes: title={'center': 'MRP'}, xlabel='RAM TYPE'>"
            ]
          },
          "metadata": {},
          "execution_count": 190
        },
        {
          "output_type": "display_data",
          "data": {
            "text/plain": [
              "<Figure size 2500x800 with 1 Axes>"
            ],
            "image/png": "[encoded data removed]"
          },
          "metadata": {}
        }
      ]
    },
    {
      "cell_type": "code",
      "source": [
        "clean_df.boxplot(by='Brand', column='MRP', figsize=(25, 8))"
      ],
      "metadata": {
        "colab": {
          "base_uri": "https://localhost:8080/",
          "height": 662
        },
        "id": "kHA8OMGjXphO",
        "outputId": "519ad4fa-f351-4f96-f34b-7395c06673d8"
      },
      "execution_count": 191,
      "outputs": [
        {
          "output_type": "execute_result",
          "data": {
            "text/plain": [
              "<Axes: title={'center': 'MRP'}, xlabel='Brand'>"
            ]
          },
          "metadata": {},
          "execution_count": 191
        },
        {
          "output_type": "display_data",
          "data": {
            "text/plain": [
              "<Figure size 2500x800 with 1 Axes>"
            ],
            "image/png": "[encoded data removed]"
          },
          "metadata": {}
        }
      ]
    },
    {
      "cell_type": "code",
      "source": [
        "clean_df.boxplot(by='ROM_SIZE', column='MRP', figsize=(25, 8))"
      ],
      "metadata": {
        "colab": {
          "base_uri": "https://localhost:8080/",
          "height": 662
        },
        "id": "Qbc7LQhnXw_j",
        "outputId": "ce5c6a69-6cc0-4734-f472-a271aa9b7884"
      },
      "execution_count": 192,
      "outputs": [
        {
          "output_type": "execute_result",
          "data": {
            "text/plain": [
              "<Axes: title={'center': 'MRP'}, xlabel='ROM_SIZE'>"
            ]
          },
          "metadata": {},
          "execution_count": 192
        },
        {
          "output_type": "display_data",
          "data": {
            "text/plain": [
              "<Figure size 2500x800 with 1 Axes>"
            ],
            "image/png": "[encoded data removed]"
          },
          "metadata": {}
        }
      ]
    },
    {
      "cell_type": "code",
      "source": [
        "clean_df.boxplot(by='ROM_TYPE', column='MRP', figsize=(25, 8))"
      ],
      "metadata": {
        "colab": {
          "base_uri": "https://localhost:8080/",
          "height": 662
        },
        "id": "XO1H-iFyX2PY",
        "outputId": "acd43534-2247-4ceb-ff7a-e2c17f85a056"
      },
      "execution_count": 193,
      "outputs": [
        {
          "output_type": "execute_result",
          "data": {
            "text/plain": [
              "<Axes: title={'center': 'MRP'}, xlabel='ROM_TYPE'>"
            ]
          },
          "metadata": {},
          "execution_count": 193
        },
        {
          "output_type": "display_data",
          "data": {
            "text/plain": [
              "<Figure size 2500x800 with 1 Axes>"
            ],
            "image/png": "[encoded data removed]"
          },
          "metadata": {}
        }
      ]
    },
    {
      "cell_type": "code",
      "source": [
        "clean_df.boxplot(by='os', column='MRP', figsize=(25, 8))"
      ],
      "metadata": {
        "colab": {
          "base_uri": "https://localhost:8080/",
          "height": 662
        },
        "id": "fcEdoSRLX9So",
        "outputId": "5c2c3b8d-6aa3-4736-e5a4-98930b0f2f64"
      },
      "execution_count": 194,
      "outputs": [
        {
          "output_type": "execute_result",
          "data": {
            "text/plain": [
              "<Axes: title={'center': 'MRP'}, xlabel='os'>"
            ]
          },
          "metadata": {},
          "execution_count": 194
        },
        {
          "output_type": "display_data",
          "data": {
            "text/plain": [
              "<Figure size 2500x800 with 1 Axes>"
            ],
            "image/png": "[encoded data removed]"
          },
          "metadata": {}
        }
      ]
    },
    {
      "cell_type": "markdown",
      "source": [
        "machine learning algorithm"
      ],
      "metadata": {
        "id": "4tTI6O4qYvUM"
      }
    },
    {
      "cell_type": "code",
      "source": [
        "dfml"
      ],
      "metadata": {
        "id": "4qoBVS_N2_AC",
        "outputId": "02a96315-dae0-4221-86c0-41e133caa8c2",
        "colab": {
          "base_uri": "https://localhost:8080/",
          "height": 424
        }
      },
      "execution_count": 195,
      "outputs": [
        {
          "output_type": "execute_result",
          "data": {
            "text/plain": [
              "        MRP                        processor    RAM  \\\n",
              "0     36990          Intel Core i3 Processor   8 GB   \n",
              "1     39990          Intel Core i3 Processor   8 GB   \n",
              "2     32990          Intel Core i3 Processor   8 GB   \n",
              "3     49990  AMD Ryzen 5 Hexa Core Processor   8 GB   \n",
              "4     49990          Intel Core i5 Processor   8 GB   \n",
              "..      ...                              ...    ...   \n",
              "714   90000  AMD Ryzen 7 Octa Core Processor  16 GB   \n",
              "716   73490  AMD Ryzen 7 Octa Core Processor   8 GB   \n",
              "717  194990  AMD Ryzen 9 Octa Core Processor  16 GB   \n",
              "718  125990          Intel Core i7 Processor  16 GB   \n",
              "719   50990          Intel Core i5 Processor   8 GB   \n",
              "\n",
              "                              os    RAM TYPE   Brand     ROM_SIZE ROM_TYPE  \n",
              "0    Windows 11 Operating System    DDR4 RAM  Lenovo       256 GB      SSD  \n",
              "1    Windows 11 Operating System    DDR4 RAM  Lenovo       512 GB      SSD  \n",
              "2    Windows 11 Operating System    DDR4 RAM    ASUS       512 GB      SSD  \n",
              "3    Windows 10 Operating System    DDR4 RAM      HP       512 GB      SSD  \n",
              "4    Windows 11 Operating System    DDR4 RAM    ASUS       512 GB      SSD  \n",
              "..                           ...         ...     ...          ...      ...  \n",
              "714  Windows 10 Operating System    DDR4 RAM      HP       512 GB      SSD  \n",
              "716  Windows 11 Operating System    DDR4 RAM  Lenovo       512 GB      SSD  \n",
              "717  Windows 11 Operating System    DDR5 RAM    ASUS         1 TB      SSD  \n",
              "718  Windows 11 Operating System  LPDDR5 RAM    ASUS       512 GB      SSD  \n",
              "719  Windows 10 Operating System    DDR4 RAM  Lenovo  1 TB,256 GB  HDD,SSD  \n",
              "\n",
              "[707 rows x 8 columns]"
            ],
            "text/html": [
              "\n",
              "  <div id=\"df-8fb69950-b3ec-40e0-862a-11a791f6cb28\">\n",
              "    <div class=\"colab-df-container\">\n",
              "      <div>\n",
              "<style scoped>\n",
              "    .dataframe tbody tr th:only-of-type {\n",
              "        vertical-align: middle;\n",
              "    }\n",
              "\n",
              "    .dataframe tbody tr th {\n",
              "        vertical-align: top;\n",
              "    }\n",
              "\n",
              "    .dataframe thead th {\n",
              "        text-align: right;\n",
              "    }\n",
              "</style>\n",
              "<table border=\"1\" class=\"dataframe\">\n",
              "  <thead>\n",
              "    <tr style=\"text-align: right;\">\n",
              "      <th></th>\n",
              "      <th>MRP</th>\n",
              "      <th>processor</th>\n",
              "      <th>RAM</th>\n",
              "      <th>os</th>\n",
              "      <th>RAM TYPE</th>\n",
              "      <th>Brand</th>\n",
              "      <th>ROM_SIZE</th>\n",
              "      <th>ROM_TYPE</th>\n",
              "    </tr>\n",
              "  </thead>\n",
              "  <tbody>\n",
              "    <tr>\n",
              "      <th>0</th>\n",
              "      <td>36990</td>\n",
              "      <td>Intel Core i3 Processor</td>\n",
              "      <td>8 GB</td>\n",
              "      <td>Windows 11 Operating System</td>\n",
              "      <td>DDR4 RAM</td>\n",
              "      <td>Lenovo</td>\n",
              "      <td>256 GB</td>\n",
              "      <td>SSD</td>\n",
              "    </tr>\n",
              "    <tr>\n",
              "      <th>1</th>\n",
              "      <td>39990</td>\n",
              "      <td>Intel Core i3 Processor</td>\n",
              "      <td>8 GB</td>\n",
              "      <td>Windows 11 Operating System</td>\n",
              "      <td>DDR4 RAM</td>\n",
              "      <td>Lenovo</td>\n",
              "      <td>512 GB</td>\n",
              "      <td>SSD</td>\n",
              "    </tr>\n",
              "    <tr>\n",
              "      <th>2</th>\n",
              "      <td>32990</td>\n",
              "      <td>Intel Core i3 Processor</td>\n",
              "      <td>8 GB</td>\n",
              "      <td>Windows 11 Operating System</td>\n",
              "      <td>DDR4 RAM</td>\n",
              "      <td>ASUS</td>\n",
              "      <td>512 GB</td>\n",
              "      <td>SSD</td>\n",
              "    </tr>\n",
              "    <tr>\n",
              "      <th>3</th>\n",
              "      <td>49990</td>\n",
              "      <td>AMD Ryzen 5 Hexa Core Processor</td>\n",
              "      <td>8 GB</td>\n",
              "      <td>Windows 10 Operating System</td>\n",
              "      <td>DDR4 RAM</td>\n",
              "      <td>HP</td>\n",
              "      <td>512 GB</td>\n",
              "      <td>SSD</td>\n",
              "    </tr>\n",
              "    <tr>\n",
              "      <th>4</th>\n",
              "      <td>49990</td>\n",
              "      <td>Intel Core i5 Processor</td>\n",
              "      <td>8 GB</td>\n",
              "      <td>Windows 11 Operating System</td>\n",
              "      <td>DDR4 RAM</td>\n",
              "      <td>ASUS</td>\n",
              "      <td>512 GB</td>\n",
              "      <td>SSD</td>\n",
              "    </tr>\n",
              "    <tr>\n",
              "      <th>...</th>\n",
              "      <td>...</td>\n",
              "      <td>...</td>\n",
              "      <td>...</td>\n",
              "      <td>...</td>\n",
              "      <td>...</td>\n",
              "      <td>...</td>\n",
              "      <td>...</td>\n",
              "      <td>...</td>\n",
              "    </tr>\n",
              "    <tr>\n",
              "      <th>714</th>\n",
              "      <td>90000</td>\n",
              "      <td>AMD Ryzen 7 Octa Core Processor</td>\n",
              "      <td>16 GB</td>\n",
              "      <td>Windows 10 Operating System</td>\n",
              "      <td>DDR4 RAM</td>\n",
              "      <td>HP</td>\n",
              "      <td>512 GB</td>\n",
              "      <td>SSD</td>\n",
              "    </tr>\n",
              "    <tr>\n",
              "      <th>716</th>\n",
              "      <td>73490</td>\n",
              "      <td>AMD Ryzen 7 Octa Core Processor</td>\n",
              "      <td>8 GB</td>\n",
              "      <td>Windows 11 Operating System</td>\n",
              "      <td>DDR4 RAM</td>\n",
              "      <td>Lenovo</td>\n",
              "      <td>512 GB</td>\n",
              "      <td>SSD</td>\n",
              "    </tr>\n",
              "    <tr>\n",
              "      <th>717</th>\n",
              "      <td>194990</td>\n",
              "      <td>AMD Ryzen 9 Octa Core Processor</td>\n",
              "      <td>16 GB</td>\n",
              "      <td>Windows 11 Operating System</td>\n",
              "      <td>DDR5 RAM</td>\n",
              "      <td>ASUS</td>\n",
              "      <td>1 TB</td>\n",
              "      <td>SSD</td>\n",
              "    </tr>\n",
              "    <tr>\n",
              "      <th>718</th>\n",
              "      <td>125990</td>\n",
              "      <td>Intel Core i7 Processor</td>\n",
              "      <td>16 GB</td>\n",
              "      <td>Windows 11 Operating System</td>\n",
              "      <td>LPDDR5 RAM</td>\n",
              "      <td>ASUS</td>\n",
              "      <td>512 GB</td>\n",
              "      <td>SSD</td>\n",
              "    </tr>\n",
              "    <tr>\n",
              "      <th>719</th>\n",
              "      <td>50990</td>\n",
              "      <td>Intel Core i5 Processor</td>\n",
              "      <td>8 GB</td>\n",
              "      <td>Windows 10 Operating System</td>\n",
              "      <td>DDR4 RAM</td>\n",
              "      <td>Lenovo</td>\n",
              "      <td>1 TB,256 GB</td>\n",
              "      <td>HDD,SSD</td>\n",
              "    </tr>\n",
              "  </tbody>\n",
              "</table>\n",
              "<p>707 rows × 8 columns</p>\n",
              "</div>\n",
              "      <button class=\"colab-df-convert\" onclick=\"convertToInteractive('df-8fb69950-b3ec-40e0-862a-11a791f6cb28')\"\n",
              "              title=\"Convert this dataframe to an interactive table.\"\n",
              "              style=\"display:none;\">\n",
              "        \n",
              "  <svg xmlns=\"http://www.w3.org/2000/svg\" height=\"24px\"viewBox=\"0 0 24 24\"\n",
              "       width=\"24px\">\n",
              "    <path d=\"M0 0h24v24H0V0z\" fill=\"none\"/>\n",
              "    <path d=\"M18.56 5.44l.94 2.06.94-2.06 2.06-.94-2.06-.94-.94-2.06-.94 2.06-2.06.94zm-11 1L8.5 8.5l.94-2.06 2.06-.94-2.06-.94L8.5 2.5l-.94 2.06-2.06.94zm10 10l.94 2.06.94-2.06 2.06-.94-2.06-.94-.94-2.06-.94 2.06-2.06.94z\"/><path d=\"M17.41 7.96l-1.37-1.37c-.4-.4-.92-.59-1.43-.59-.52 0-1.04.2-1.43.59L10.3 9.45l-7.72 7.72c-.78.78-.78 2.05 0 2.83L4 21.41c.39.39.9.59 1.41.59.51 0 1.02-.2 1.41-.59l7.78-7.78 2.81-2.81c.8-.78.8-2.07 0-2.86zM5.41 20L4 18.59l7.72-7.72 1.47 1.35L5.41 20z\"/>\n",
              "  </svg>\n",
              "      </button>\n",
              "      \n",
              "  <style>\n",
              "    .colab-df-container {\n",
              "      display:flex;\n",
              "      flex-wrap:wrap;\n",
              "      gap: 12px;\n",
              "    }\n",
              "\n",
              "    .colab-df-convert {\n",
              "      background-color: #E8F0FE;\n",
              "      border: none;\n",
              "      border-radius: 50%;\n",
              "      cursor: pointer;\n",
              "      display: none;\n",
              "      fill: #1967D2;\n",
              "      height: 32px;\n",
              "      padding: 0 0 0 0;\n",
              "      width: 32px;\n",
              "    }\n",
              "\n",
              "    .colab-df-convert:hover {\n",
              "      background-color: #E2EBFA;\n",
              "      box-shadow: 0px 1px 2px rgba(60, 64, 67, 0.3), 0px 1px 3px 1px rgba(60, 64, 67, 0.15);\n",
              "      fill: #174EA6;\n",
              "    }\n",
              "\n",
              "    [theme=dark] .colab-df-convert {\n",
              "      background-color: #3B4455;\n",
              "      fill: #D2E3FC;\n",
              "    }\n",
              "\n",
              "    [theme=dark] .colab-df-convert:hover {\n",
              "      background-color: #434B5C;\n",
              "      box-shadow: 0px 1px 3px 1px rgba(0, 0, 0, 0.15);\n",
              "      filter: drop-shadow(0px 1px 2px rgba(0, 0, 0, 0.3));\n",
              "      fill: #FFFFFF;\n",
              "    }\n",
              "  </style>\n",
              "\n",
              "      <script>\n",
              "        const buttonEl =\n",
              "          document.querySelector('#df-8fb69950-b3ec-40e0-862a-11a791f6cb28 button.colab-df-convert');\n",
              "        buttonEl.style.display =\n",
              "          google.colab.kernel.accessAllowed ? 'block' : 'none';\n",
              "\n",
              "        async function convertToInteractive(key) {\n",
              "          const element = document.querySelector('#df-8fb69950-b3ec-40e0-862a-11a791f6cb28');\n",
              "          const dataTable =\n",
              "            await google.colab.kernel.invokeFunction('convertToInteractive',\n",
              "                                                     [key], {});\n",
              "          if (!dataTable) return;\n",
              "\n",
              "          const docLinkHtml = 'Like what you see? Visit the ' +\n",
              "            '<a target=\"_blank\" href=https://colab.research.google.com/notebooks/data_table.ipynb>data table notebook</a>'\n",
              "            + ' to learn more about interactive tables.';\n",
              "          element.innerHTML = '';\n",
              "          dataTable['output_type'] = 'display_data';\n",
              "          await google.colab.output.renderOutput(dataTable, element);\n",
              "          const docLink = document.createElement('div');\n",
              "          docLink.innerHTML = docLinkHtml;\n",
              "          element.appendChild(docLink);\n",
              "        }\n",
              "      </script>\n",
              "    </div>\n",
              "  </div>\n",
              "  "
            ]
          },
          "metadata": {},
          "execution_count": 195
        }
      ]
    },
    {
      "cell_type": "code",
      "source": [
        "from sklearn.preprocessing import LabelEncoder, OneHotEncoder\n",
        "from sklearn.compose import ColumnTransformer\n",
        "from sklearn.pipeline import Pipeline\n",
        "from sklearn.ensemble import RandomForestRegressor\n",
        "from sklearn.linear_model import LinearRegression"
      ],
      "metadata": {
        "id": "Dyij9DrvYDTt"
      },
      "execution_count": 196,
      "outputs": []
    },
    {
      "cell_type": "code",
      "source": [
        "step1=ColumnTransformer(transformers=[\n",
        "    ('encoder',OneHotEncoder(sparse=False,drop='first'),[0,1,2,3,4,5,6])\n",
        "],remainder='passthrough')\n",
        "\n",
        "\n",
        "\n",
        "step2 = RandomForestRegressor(n_estimators=100,\n",
        "                              random_state=3,\n",
        "                              max_samples=0.5,\n",
        "                              max_features=0.75,\n",
        "                              max_depth=15)\n",
        "\n"
      ],
      "metadata": {
        "id": "45Bw4v_h5-4u"
      },
      "execution_count": 197,
      "outputs": []
    },
    {
      "cell_type": "code",
      "source": [
        "#step1 = ColumnTransformer(transformers=[\n",
        "  #  ('encoder',OneHotEncoder(sparse=False,drop='first'),[0,1,2,3,4,5,6])],remainder='passthrough')\n",
        "\n",
        "#step2 =LinearRegression()"
      ],
      "metadata": {
        "id": "A5jbq3WSU-PD"
      },
      "execution_count": 198,
      "outputs": []
    },
    {
      "cell_type": "markdown",
      "source": [
        "as i have worked with random forest and linear regression and support vector machine in my ml lesson.i have used random forest and linear regression for prediction but support vector machine is not used due to it is nused for classification"
      ],
      "metadata": {
        "id": "yD8DNNWMXNB4"
      }
    },
    {
      "cell_type": "markdown",
      "source": [
        "split the deata into input and output where output is MRP and input is all other columns"
      ],
      "metadata": {
        "id": "uKhG2s8r6sa3"
      }
    },
    {
      "cell_type": "code",
      "source": [
        "x=dfml.drop(columns=['MRP'])\n",
        "Y=np.log(dfml['MRP'])\n",
        "\n"
      ],
      "metadata": {
        "id": "4SV3QQJh5-wm"
      },
      "execution_count": 199,
      "outputs": []
    },
    {
      "cell_type": "markdown",
      "source": [
        "DIVIDING THE GIVEN X AND Y INTO TEST AND TRAIN DATA"
      ],
      "metadata": {
        "id": "Y8FSHe267iKY"
      }
    },
    {
      "cell_type": "code",
      "source": [
        "from sklearn.model_selection import train_test_split\n",
        "X_train, X_test, y_train, y_test = train_test_split(x, Y,test_size=0.2, random_state=100)"
      ],
      "metadata": {
        "id": "Yy_BHWnM7hmY"
      },
      "execution_count": 200,
      "outputs": []
    },
    {
      "cell_type": "code",
      "source": [
        "pipe = Pipeline([\n",
        "\n",
        "('step1',step1),\n",
        "\n",
        "\n",
        "\n",
        "('step2',step2)\n",
        "\n",
        "])"
      ],
      "metadata": {
        "id": "JENOYFop8yc2"
      },
      "execution_count": 201,
      "outputs": []
    },
    {
      "cell_type": "code",
      "source": [
        "pipe.fit(X_train,y_train)\n"
      ],
      "metadata": {
        "colab": {
          "base_uri": "https://localhost:8080/",
          "height": 247
        },
        "id": "6e3UuQMw80pK",
        "outputId": "ab24b58e-3a01-4108-c7c7-f8e0a03580af"
      },
      "execution_count": 202,
      "outputs": [
        {
          "output_type": "stream",
          "name": "stderr",
          "text": [
            "/usr/local/lib/python3.9/dist-packages/sklearn/preprocessing/_encoders.py:868: FutureWarning: `sparse` was renamed to `sparse_output` in version 1.2 and will be removed in 1.4. `sparse_output` is ignored unless you leave `sparse` to its default value.\n",
            "  warnings.warn(\n"
          ]
        },
        {
          "output_type": "execute_result",
          "data": {
            "text/plain": [
              "Pipeline(steps=[('step1',\n",
              "                 ColumnTransformer(remainder='passthrough',\n",
              "                                   transformers=[('encoder',\n",
              "                                                  OneHotEncoder(drop='first',\n",
              "                                                                sparse=False),\n",
              "                                                  [0, 1, 2, 3, 4, 5, 6])])),\n",
              "                ('step2',\n",
              "                 RandomForestRegressor(max_depth=15, max_features=0.75,\n",
              "                                       max_samples=0.5, random_state=3))])"
            ],
            "text/html": [
              "<style>#sk-container-id-3 {color: black;background-color: white;}#sk-container-id-3 pre{padding: 0;}#sk-container-id-3 div.sk-toggleable {background-color: white;}#sk-container-id-3 label.sk-toggleable__label {cursor: pointer;display: block;width: 100%;margin-bottom: 0;padding: 0.3em;box-sizing: border-box;text-align: center;}#sk-container-id-3 label.sk-toggleable__label-arrow:before {content: \"▸\";float: left;margin-right: 0.25em;color: #696969;}#sk-container-id-3 label.sk-toggleable__label-arrow:hover:before {color: black;}#sk-container-id-3 div.sk-estimator:hover label.sk-toggleable__label-arrow:before {color: black;}#sk-container-id-3 div.sk-toggleable__content {max-height: 0;max-width: 0;overflow: hidden;text-align: left;background-color: #f0f8ff;}#sk-container-id-3 div.sk-toggleable__content pre {margin: 0.2em;color: black;border-radius: 0.25em;background-color: #f0f8ff;}#sk-container-id-3 input.sk-toggleable__control:checked~div.sk-toggleable__content {max-height: 200px;max-width: 100%;overflow: auto;}#sk-container-id-3 input.sk-toggleable__control:checked~label.sk-toggleable__label-arrow:before {content: \"▾\";}#sk-container-id-3 div.sk-estimator input.sk-toggleable__control:checked~label.sk-toggleable__label {background-color: #d4ebff;}#sk-container-id-3 div.sk-label input.sk-toggleable__control:checked~label.sk-toggleable__label {background-color: #d4ebff;}#sk-container-id-3 input.sk-hidden--visually {border: 0;clip: rect(1px 1px 1px 1px);clip: rect(1px, 1px, 1px, 1px);height: 1px;margin: -1px;overflow: hidden;padding: 0;position: absolute;width: 1px;}#sk-container-id-3 div.sk-estimator {font-family: monospace;background-color: #f0f8ff;border: 1px dotted black;border-radius: 0.25em;box-sizing: border-box;margin-bottom: 0.5em;}#sk-container-id-3 div.sk-estimator:hover {background-color: #d4ebff;}#sk-container-id-3 div.sk-parallel-item::after {content: \"\";width: 100%;border-bottom: 1px solid gray;flex-grow: 1;}#sk-container-id-3 div.sk-label:hover label.sk-toggleable__label {background-color: #d4ebff;}#sk-container-id-3 div.sk-serial::before {content: \"\";position: absolute;border-left: 1px solid gray;box-sizing: border-box;top: 0;bottom: 0;left: 50%;z-index: 0;}#sk-container-id-3 div.sk-serial {display: flex;flex-direction: column;align-items: center;background-color: white;padding-right: 0.2em;padding-left: 0.2em;position: relative;}#sk-container-id-3 div.sk-item {position: relative;z-index: 1;}#sk-container-id-3 div.sk-parallel {display: flex;align-items: stretch;justify-content: center;background-color: white;position: relative;}#sk-container-id-3 div.sk-item::before, #sk-container-id-3 div.sk-parallel-item::before {content: \"\";position: absolute;border-left: 1px solid gray;box-sizing: border-box;top: 0;bottom: 0;left: 50%;z-index: -1;}#sk-container-id-3 div.sk-parallel-item {display: flex;flex-direction: column;z-index: 1;position: relative;background-color: white;}#sk-container-id-3 div.sk-parallel-item:first-child::after {align-self: flex-end;width: 50%;}#sk-container-id-3 div.sk-parallel-item:last-child::after {align-self: flex-start;width: 50%;}#sk-container-id-3 div.sk-parallel-item:only-child::after {width: 0;}#sk-container-id-3 div.sk-dashed-wrapped {border: 1px dashed gray;margin: 0 0.4em 0.5em 0.4em;box-sizing: border-box;padding-bottom: 0.4em;background-color: white;}#sk-container-id-3 div.sk-label label {font-family: monospace;font-weight: bold;display: inline-block;line-height: 1.2em;}#sk-container-id-3 div.sk-label-container {text-align: center;}#sk-container-id-3 div.sk-container {/* jupyter's `normalize.less` sets `[hidden] { display: none; }` but bootstrap.min.css set `[hidden] { display: none !important; }` so we also need the `!important` here to be able to override the default hidden behavior on the sphinx rendered scikit-learn.org. See: https://github.com/scikit-learn/scikit-learn/issues/21755 */display: inline-block !important;position: relative;}#sk-container-id-3 div.sk-text-repr-fallback {display: none;}</style><div id=\"sk-container-id-3\" class=\"sk-top-container\"><div class=\"sk-text-repr-fallback\"><pre>Pipeline(steps=[(&#x27;step1&#x27;,\n",
              "                 ColumnTransformer(remainder=&#x27;passthrough&#x27;,\n",
              "                                   transformers=[(&#x27;encoder&#x27;,\n",
              "                                                  OneHotEncoder(drop=&#x27;first&#x27;,\n",
              "                                                                sparse=False),\n",
              "                                                  [0, 1, 2, 3, 4, 5, 6])])),\n",
              "                (&#x27;step2&#x27;,\n",
              "                 RandomForestRegressor(max_depth=15, max_features=0.75,\n",
              "                                       max_samples=0.5, random_state=3))])</pre><b>In a Jupyter environment, please rerun this cell to show the HTML representation or trust the notebook. <br />On GitHub, the HTML representation is unable to render, please try loading this page with nbviewer.org.</b></div><div class=\"sk-container\" hidden><div class=\"sk-item sk-dashed-wrapped\"><div class=\"sk-label-container\"><div class=\"sk-label sk-toggleable\"><input class=\"sk-toggleable__control sk-hidden--visually\" id=\"sk-estimator-id-15\" type=\"checkbox\" ><label for=\"sk-estimator-id-15\" class=\"sk-toggleable__label sk-toggleable__label-arrow\">Pipeline</label><div class=\"sk-toggleable__content\"><pre>Pipeline(steps=[(&#x27;step1&#x27;,\n",
              "                 ColumnTransformer(remainder=&#x27;passthrough&#x27;,\n",
              "                                   transformers=[(&#x27;encoder&#x27;,\n",
              "                                                  OneHotEncoder(drop=&#x27;first&#x27;,\n",
              "                                                                sparse=False),\n",
              "                                                  [0, 1, 2, 3, 4, 5, 6])])),\n",
              "                (&#x27;step2&#x27;,\n",
              "                 RandomForestRegressor(max_depth=15, max_features=0.75,\n",
              "                                       max_samples=0.5, random_state=3))])</pre></div></div></div><div class=\"sk-serial\"><div class=\"sk-item sk-dashed-wrapped\"><div class=\"sk-label-container\"><div class=\"sk-label sk-toggleable\"><input class=\"sk-toggleable__control sk-hidden--visually\" id=\"sk-estimator-id-16\" type=\"checkbox\" ><label for=\"sk-estimator-id-16\" class=\"sk-toggleable__label sk-toggleable__label-arrow\">step1: ColumnTransformer</label><div class=\"sk-toggleable__content\"><pre>ColumnTransformer(remainder=&#x27;passthrough&#x27;,\n",
              "                  transformers=[(&#x27;encoder&#x27;,\n",
              "                                 OneHotEncoder(drop=&#x27;first&#x27;, sparse=False),\n",
              "                                 [0, 1, 2, 3, 4, 5, 6])])</pre></div></div></div><div class=\"sk-parallel\"><div class=\"sk-parallel-item\"><div class=\"sk-item\"><div class=\"sk-label-container\"><div class=\"sk-label sk-toggleable\"><input class=\"sk-toggleable__control sk-hidden--visually\" id=\"sk-estimator-id-17\" type=\"checkbox\" ><label for=\"sk-estimator-id-17\" class=\"sk-toggleable__label sk-toggleable__label-arrow\">encoder</label><div class=\"sk-toggleable__content\"><pre>[0, 1, 2, 3, 4, 5, 6]</pre></div></div></div><div class=\"sk-serial\"><div class=\"sk-item\"><div class=\"sk-estimator sk-toggleable\"><input class=\"sk-toggleable__control sk-hidden--visually\" id=\"sk-estimator-id-18\" type=\"checkbox\" ><label for=\"sk-estimator-id-18\" class=\"sk-toggleable__label sk-toggleable__label-arrow\">OneHotEncoder</label><div class=\"sk-toggleable__content\"><pre>OneHotEncoder(drop=&#x27;first&#x27;, sparse=False)</pre></div></div></div></div></div></div><div class=\"sk-parallel-item\"><div class=\"sk-item\"><div class=\"sk-label-container\"><div class=\"sk-label sk-toggleable\"><input class=\"sk-toggleable__control sk-hidden--visually\" id=\"sk-estimator-id-19\" type=\"checkbox\" ><label for=\"sk-estimator-id-19\" class=\"sk-toggleable__label sk-toggleable__label-arrow\">remainder</label><div class=\"sk-toggleable__content\"><pre>[]</pre></div></div></div><div class=\"sk-serial\"><div class=\"sk-item\"><div class=\"sk-estimator sk-toggleable\"><input class=\"sk-toggleable__control sk-hidden--visually\" id=\"sk-estimator-id-20\" type=\"checkbox\" ><label for=\"sk-estimator-id-20\" class=\"sk-toggleable__label sk-toggleable__label-arrow\">passthrough</label><div class=\"sk-toggleable__content\"><pre>passthrough</pre></div></div></div></div></div></div></div></div><div class=\"sk-item\"><div class=\"sk-estimator sk-toggleable\"><input class=\"sk-toggleable__control sk-hidden--visually\" id=\"sk-estimator-id-21\" type=\"checkbox\" ><label for=\"sk-estimator-id-21\" class=\"sk-toggleable__label sk-toggleable__label-arrow\">RandomForestRegressor</label><div class=\"sk-toggleable__content\"><pre>RandomForestRegressor(max_depth=15, max_features=0.75, max_samples=0.5,\n",
              "                      random_state=3)</pre></div></div></div></div></div></div></div>"
            ]
          },
          "metadata": {},
          "execution_count": 202
        }
      ]
    },
    {
      "cell_type": "code",
      "source": [
        "out_predic = pipe.predict(X_test)\n"
      ],
      "metadata": {
        "id": "ZDd_Z3Oc_5OW"
      },
      "execution_count": 203,
      "outputs": []
    },
    {
      "cell_type": "code",
      "source": [
        "from sklearn.metrics import r2_score,mean_absolute_error\n",
        "print(r2_score(y_test,out_predic))\n",
        "print(mean_absolute_error(y_test,out_predic))\n"
      ],
      "metadata": {
        "colab": {
          "base_uri": "https://localhost:8080/"
        },
        "id": "8G8GjUqsBVO9",
        "outputId": "a181cad8-bb45-4553-a6f6-a484dd136846"
      },
      "execution_count": 204,
      "outputs": [
        {
          "output_type": "stream",
          "name": "stdout",
          "text": [
            "0.9346714310879546\n",
            "0.10903116565528366\n"
          ]
        }
      ]
    },
    {
      "cell_type": "markdown",
      "source": [
        "Exporting the Model\n"
      ],
      "metadata": {
        "id": "ugRvjFXYX8fj"
      }
    },
    {
      "cell_type": "code",
      "source": [
        "clean_df"
      ],
      "metadata": {
        "id": "M60DKSZLXxPK",
        "outputId": "e9f4c409-6418-40e9-f2f6-d3cc72a8cf99",
        "colab": {
          "base_uri": "https://localhost:8080/",
          "height": 424
        }
      },
      "execution_count": 205,
      "outputs": [
        {
          "output_type": "execute_result",
          "data": {
            "text/plain": [
              "       MRP                        processor    RAM  \\\n",
              "0    36990          Intel Core i3 Processor   8 GB   \n",
              "1    39990          Intel Core i3 Processor   8 GB   \n",
              "2    32990          Intel Core i3 Processor   8 GB   \n",
              "3    49990  AMD Ryzen 5 Hexa Core Processor   8 GB   \n",
              "4    49990          Intel Core i5 Processor   8 GB   \n",
              "..     ...                              ...    ...   \n",
              "710  35590  AMD Ryzen 3 Dual Core Processor   8 GB   \n",
              "713  76590          Intel Core i5 Processor  16 GB   \n",
              "714  90000  AMD Ryzen 7 Octa Core Processor  16 GB   \n",
              "716  73490  AMD Ryzen 7 Octa Core Processor   8 GB   \n",
              "719  50990          Intel Core i5 Processor   8 GB   \n",
              "\n",
              "                              os  RAM TYPE   Brand     ROM_SIZE ROM_TYPE  \n",
              "0    Windows 11 Operating System  DDR4 RAM  Lenovo       256 GB      SSD  \n",
              "1    Windows 11 Operating System  DDR4 RAM  Lenovo       512 GB      SSD  \n",
              "2    Windows 11 Operating System  DDR4 RAM    ASUS       512 GB      SSD  \n",
              "3    Windows 10 Operating System  DDR4 RAM      HP       512 GB      SSD  \n",
              "4    Windows 11 Operating System  DDR4 RAM    ASUS       512 GB      SSD  \n",
              "..                           ...       ...     ...          ...      ...  \n",
              "710  Windows 11 Operating System  DDR4 RAM  Lenovo       512 GB      SSD  \n",
              "713  Windows 11 Operating System  DDR5 RAM    DELL       512 GB      SSD  \n",
              "714  Windows 10 Operating System  DDR4 RAM      HP       512 GB      SSD  \n",
              "716  Windows 11 Operating System  DDR4 RAM  Lenovo       512 GB      SSD  \n",
              "719  Windows 10 Operating System  DDR4 RAM  Lenovo  1 TB,256 GB  HDD,SSD  \n",
              "\n",
              "[561 rows x 8 columns]"
            ],
            "text/html": [
              "\n",
              "  <div id=\"df-0c735fa6-b6c6-4430-952d-b794ed618bfc\">\n",
              "    <div class=\"colab-df-container\">\n",
              "      <div>\n",
              "<style scoped>\n",
              "    .dataframe tbody tr th:only-of-type {\n",
              "        vertical-align: middle;\n",
              "    }\n",
              "\n",
              "    .dataframe tbody tr th {\n",
              "        vertical-align: top;\n",
              "    }\n",
              "\n",
              "    .dataframe thead th {\n",
              "        text-align: right;\n",
              "    }\n",
              "</style>\n",
              "<table border=\"1\" class=\"dataframe\">\n",
              "  <thead>\n",
              "    <tr style=\"text-align: right;\">\n",
              "      <th></th>\n",
              "      <th>MRP</th>\n",
              "      <th>processor</th>\n",
              "      <th>RAM</th>\n",
              "      <th>os</th>\n",
              "      <th>RAM TYPE</th>\n",
              "      <th>Brand</th>\n",
              "      <th>ROM_SIZE</th>\n",
              "      <th>ROM_TYPE</th>\n",
              "    </tr>\n",
              "  </thead>\n",
              "  <tbody>\n",
              "    <tr>\n",
              "      <th>0</th>\n",
              "      <td>36990</td>\n",
              "      <td>Intel Core i3 Processor</td>\n",
              "      <td>8 GB</td>\n",
              "      <td>Windows 11 Operating System</td>\n",
              "      <td>DDR4 RAM</td>\n",
              "      <td>Lenovo</td>\n",
              "      <td>256 GB</td>\n",
              "      <td>SSD</td>\n",
              "    </tr>\n",
              "    <tr>\n",
              "      <th>1</th>\n",
              "      <td>39990</td>\n",
              "      <td>Intel Core i3 Processor</td>\n",
              "      <td>8 GB</td>\n",
              "      <td>Windows 11 Operating System</td>\n",
              "      <td>DDR4 RAM</td>\n",
              "      <td>Lenovo</td>\n",
              "      <td>512 GB</td>\n",
              "      <td>SSD</td>\n",
              "    </tr>\n",
              "    <tr>\n",
              "      <th>2</th>\n",
              "      <td>32990</td>\n",
              "      <td>Intel Core i3 Processor</td>\n",
              "      <td>8 GB</td>\n",
              "      <td>Windows 11 Operating System</td>\n",
              "      <td>DDR4 RAM</td>\n",
              "      <td>ASUS</td>\n",
              "      <td>512 GB</td>\n",
              "      <td>SSD</td>\n",
              "    </tr>\n",
              "    <tr>\n",
              "      <th>3</th>\n",
              "      <td>49990</td>\n",
              "      <td>AMD Ryzen 5 Hexa Core Processor</td>\n",
              "      <td>8 GB</td>\n",
              "      <td>Windows 10 Operating System</td>\n",
              "      <td>DDR4 RAM</td>\n",
              "      <td>HP</td>\n",
              "      <td>512 GB</td>\n",
              "      <td>SSD</td>\n",
              "    </tr>\n",
              "    <tr>\n",
              "      <th>4</th>\n",
              "      <td>49990</td>\n",
              "      <td>Intel Core i5 Processor</td>\n",
              "      <td>8 GB</td>\n",
              "      <td>Windows 11 Operating System</td>\n",
              "      <td>DDR4 RAM</td>\n",
              "      <td>ASUS</td>\n",
              "      <td>512 GB</td>\n",
              "      <td>SSD</td>\n",
              "    </tr>\n",
              "    <tr>\n",
              "      <th>...</th>\n",
              "      <td>...</td>\n",
              "      <td>...</td>\n",
              "      <td>...</td>\n",
              "      <td>...</td>\n",
              "      <td>...</td>\n",
              "      <td>...</td>\n",
              "      <td>...</td>\n",
              "      <td>...</td>\n",
              "    </tr>\n",
              "    <tr>\n",
              "      <th>710</th>\n",
              "      <td>35590</td>\n",
              "      <td>AMD Ryzen 3 Dual Core Processor</td>\n",
              "      <td>8 GB</td>\n",
              "      <td>Windows 11 Operating System</td>\n",
              "      <td>DDR4 RAM</td>\n",
              "      <td>Lenovo</td>\n",
              "      <td>512 GB</td>\n",
              "      <td>SSD</td>\n",
              "    </tr>\n",
              "    <tr>\n",
              "      <th>713</th>\n",
              "      <td>76590</td>\n",
              "      <td>Intel Core i5 Processor</td>\n",
              "      <td>16 GB</td>\n",
              "      <td>Windows 11 Operating System</td>\n",
              "      <td>DDR5 RAM</td>\n",
              "      <td>DELL</td>\n",
              "      <td>512 GB</td>\n",
              "      <td>SSD</td>\n",
              "    </tr>\n",
              "    <tr>\n",
              "      <th>714</th>\n",
              "      <td>90000</td>\n",
              "      <td>AMD Ryzen 7 Octa Core Processor</td>\n",
              "      <td>16 GB</td>\n",
              "      <td>Windows 10 Operating System</td>\n",
              "      <td>DDR4 RAM</td>\n",
              "      <td>HP</td>\n",
              "      <td>512 GB</td>\n",
              "      <td>SSD</td>\n",
              "    </tr>\n",
              "    <tr>\n",
              "      <th>716</th>\n",
              "      <td>73490</td>\n",
              "      <td>AMD Ryzen 7 Octa Core Processor</td>\n",
              "      <td>8 GB</td>\n",
              "      <td>Windows 11 Operating System</td>\n",
              "      <td>DDR4 RAM</td>\n",
              "      <td>Lenovo</td>\n",
              "      <td>512 GB</td>\n",
              "      <td>SSD</td>\n",
              "    </tr>\n",
              "    <tr>\n",
              "      <th>719</th>\n",
              "      <td>50990</td>\n",
              "      <td>Intel Core i5 Processor</td>\n",
              "      <td>8 GB</td>\n",
              "      <td>Windows 10 Operating System</td>\n",
              "      <td>DDR4 RAM</td>\n",
              "      <td>Lenovo</td>\n",
              "      <td>1 TB,256 GB</td>\n",
              "      <td>HDD,SSD</td>\n",
              "    </tr>\n",
              "  </tbody>\n",
              "</table>\n",
              "<p>561 rows × 8 columns</p>\n",
              "</div>\n",
              "      <button class=\"colab-df-convert\" onclick=\"convertToInteractive('df-0c735fa6-b6c6-4430-952d-b794ed618bfc')\"\n",
              "              title=\"Convert this dataframe to an interactive table.\"\n",
              "              style=\"display:none;\">\n",
              "        \n",
              "  <svg xmlns=\"http://www.w3.org/2000/svg\" height=\"24px\"viewBox=\"0 0 24 24\"\n",
              "       width=\"24px\">\n",
              "    <path d=\"M0 0h24v24H0V0z\" fill=\"none\"/>\n",
              "    <path d=\"M18.56 5.44l.94 2.06.94-2.06 2.06-.94-2.06-.94-.94-2.06-.94 2.06-2.06.94zm-11 1L8.5 8.5l.94-2.06 2.06-.94-2.06-.94L8.5 2.5l-.94 2.06-2.06.94zm10 10l.94 2.06.94-2.06 2.06-.94-2.06-.94-.94-2.06-.94 2.06-2.06.94z\"/><path d=\"M17.41 7.96l-1.37-1.37c-.4-.4-.92-.59-1.43-.59-.52 0-1.04.2-1.43.59L10.3 9.45l-7.72 7.72c-.78.78-.78 2.05 0 2.83L4 21.41c.39.39.9.59 1.41.59.51 0 1.02-.2 1.41-.59l7.78-7.78 2.81-2.81c.8-.78.8-2.07 0-2.86zM5.41 20L4 18.59l7.72-7.72 1.47 1.35L5.41 20z\"/>\n",
              "  </svg>\n",
              "      </button>\n",
              "      \n",
              "  <style>\n",
              "    .colab-df-container {\n",
              "      display:flex;\n",
              "      flex-wrap:wrap;\n",
              "      gap: 12px;\n",
              "    }\n",
              "\n",
              "    .colab-df-convert {\n",
              "      background-color: #E8F0FE;\n",
              "      border: none;\n",
              "      border-radius: 50%;\n",
              "      cursor: pointer;\n",
              "      display: none;\n",
              "      fill: #1967D2;\n",
              "      height: 32px;\n",
              "      padding: 0 0 0 0;\n",
              "      width: 32px;\n",
              "    }\n",
              "\n",
              "    .colab-df-convert:hover {\n",
              "      background-color: #E2EBFA;\n",
              "      box-shadow: 0px 1px 2px rgba(60, 64, 67, 0.3), 0px 1px 3px 1px rgba(60, 64, 67, 0.15);\n",
              "      fill: #174EA6;\n",
              "    }\n",
              "\n",
              "    [theme=dark] .colab-df-convert {\n",
              "      background-color: #3B4455;\n",
              "      fill: #D2E3FC;\n",
              "    }\n",
              "\n",
              "    [theme=dark] .colab-df-convert:hover {\n",
              "      background-color: #434B5C;\n",
              "      box-shadow: 0px 1px 3px 1px rgba(0, 0, 0, 0.15);\n",
              "      filter: drop-shadow(0px 1px 2px rgba(0, 0, 0, 0.3));\n",
              "      fill: #FFFFFF;\n",
              "    }\n",
              "  </style>\n",
              "\n",
              "      <script>\n",
              "        const buttonEl =\n",
              "          document.querySelector('#df-0c735fa6-b6c6-4430-952d-b794ed618bfc button.colab-df-convert');\n",
              "        buttonEl.style.display =\n",
              "          google.colab.kernel.accessAllowed ? 'block' : 'none';\n",
              "\n",
              "        async function convertToInteractive(key) {\n",
              "          const element = document.querySelector('#df-0c735fa6-b6c6-4430-952d-b794ed618bfc');\n",
              "          const dataTable =\n",
              "            await google.colab.kernel.invokeFunction('convertToInteractive',\n",
              "                                                     [key], {});\n",
              "          if (!dataTable) return;\n",
              "\n",
              "          const docLinkHtml = 'Like what you see? Visit the ' +\n",
              "            '<a target=\"_blank\" href=https://colab.research.google.com/notebooks/data_table.ipynb>data table notebook</a>'\n",
              "            + ' to learn more about interactive tables.';\n",
              "          element.innerHTML = '';\n",
              "          dataTable['output_type'] = 'display_data';\n",
              "          await google.colab.output.renderOutput(dataTable, element);\n",
              "          const docLink = document.createElement('div');\n",
              "          docLink.innerHTML = docLinkHtml;\n",
              "          element.appendChild(docLink);\n",
              "        }\n",
              "      </script>\n",
              "    </div>\n",
              "  </div>\n",
              "  "
            ]
          },
          "metadata": {},
          "execution_count": 205
        }
      ]
    },
    {
      "cell_type": "code",
      "source": [
        "import pickle\n",
        "dfml.to_csv(\"df.csv\", index=False)\n",
        "pickle.dump(pipe,open('pipe.pkl','wb'))\n",
        "clean_df.to_csv(\"clean_df.csv\",index=False)"
      ],
      "metadata": {
        "id": "SiwF5X-QUt98"
      },
      "execution_count": 206,
      "outputs": []
    },
    {
      "cell_type": "code",
      "source": [],
      "metadata": {
        "id": "knJT9y12O_u_"
      },
      "execution_count": 206,
      "outputs": []
    }
  ]
}